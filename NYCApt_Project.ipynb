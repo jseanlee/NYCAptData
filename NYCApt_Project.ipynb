{
  "nbformat": 4,
  "nbformat_minor": 0,
  "metadata": {
    "colab": {
      "provenance": [],
      "collapsed_sections": [
        "JPazM7K-N83_",
        "GcH-krBnHDMj"
      ],
      "toc_visible": true
    },
    "kernelspec": {
      "name": "python3",
      "display_name": "Python 3"
    },
    "language_info": {
      "name": "python"
    }
  },
  "cells": [
    {
      "cell_type": "markdown",
      "source": [
        "# **Exploring NYC Rental Property Data**\n",
        "---\n",
        "*Data Science Project by Trenton vonHartitzsch (tcv2956) and Sean Lee (jsl775)*\n",
        "---"
      ],
      "metadata": {
        "id": "prLFdP2qWMw4"
      }
    },
    {
      "cell_type": "markdown",
      "source": [
        "# Introduction and Data Retrieval"
      ],
      "metadata": {
        "id": "_YGh79duHHXN"
      }
    },
    {
      "cell_type": "markdown",
      "source": [
        "Throughout NYC, a vast population of residents rely on rental properties for housing, which can vary greatly based on location, the number of bedrooms and bathrooms, as well as price. With this data science project, we aim to explore NYC rental property data to derive insights regarding apartment data, fostering data-driven decision making on where a user should best look for a rental property based on their specifications. With this project, we aim to:\n",
        "\n",
        "\n",
        "● Analyze a key factor, like location\n",
        "\n",
        "● Identify patterns and trends in NYC rental property data within isochronic\n",
        "shapes surrounding specified locations\n",
        "\n",
        "● Build multiple models to help gain insights on determining apartment recommendations (work, school, gym, etc.)\n",
        "\n",
        "\n",
        "\n",
        "\n",
        "---\n",
        "\n",
        "\n",
        "The notebook is organized in the following order:\n",
        "\n",
        "1.   Introduction and Data Retrieval\n",
        "2.   Setup and Installation\n",
        "3.   Data Pre-Processing\n",
        "4.   General Dataset Exploration and Analysis\n",
        "5.   TravelTime API Function Implementation\n",
        "6.   Isochrone and Intersection Mapping\n",
        "7.   Isochrone Data Analysis\n",
        "8.   Final Thoughts and Conclusion\n",
        "\n"
      ],
      "metadata": {
        "id": "lV-1BteAN78F"
      }
    },
    {
      "cell_type": "markdown",
      "source": [
        "To acquire this data on NYC rental properties, we used a data set found on APIFY, a cloud platform for web scraping. The data was collected using web scraping techniques within one of their APIs. This data was scraped on April 29, 2024 and was validated via URLs directly found within the scraped csv file."
      ],
      "metadata": {
        "id": "CXz24EHQBsLG"
      }
    },
    {
      "cell_type": "markdown",
      "source": [
        "# Setup and Installation"
      ],
      "metadata": {
        "id": "JPazM7K-N83_"
      }
    },
    {
      "cell_type": "code",
      "execution_count": null,
      "metadata": {
        "colab": {
          "base_uri": "https://localhost:8080/"
        },
        "id": "xoAPVGsuN4mq",
        "outputId": "b6cb8493-9793-49e0-f392-83f9f3efd701"
      },
      "outputs": [
        {
          "output_type": "stream",
          "name": "stdout",
          "text": [
            "Requirement already satisfied: geopandas in /usr/local/lib/python3.10/dist-packages (0.13.2)\n",
            "Requirement already satisfied: pandas in /usr/local/lib/python3.10/dist-packages (2.0.3)\n",
            "Requirement already satisfied: matplotlib in /usr/local/lib/python3.10/dist-packages (3.7.1)\n",
            "Requirement already satisfied: requests in /usr/local/lib/python3.10/dist-packages (2.31.0)\n",
            "Requirement already satisfied: folium in /usr/local/lib/python3.10/dist-packages (0.14.0)\n",
            "Requirement already satisfied: fiona>=1.8.19 in /usr/local/lib/python3.10/dist-packages (from geopandas) (1.9.6)\n",
            "Requirement already satisfied: packaging in /usr/local/lib/python3.10/dist-packages (from geopandas) (24.0)\n",
            "Requirement already satisfied: pyproj>=3.0.1 in /usr/local/lib/python3.10/dist-packages (from geopandas) (3.6.1)\n",
            "Requirement already satisfied: shapely>=1.7.1 in /usr/local/lib/python3.10/dist-packages (from geopandas) (2.0.4)\n",
            "Requirement already satisfied: python-dateutil>=2.8.2 in /usr/local/lib/python3.10/dist-packages (from pandas) (2.8.2)\n",
            "Requirement already satisfied: pytz>=2020.1 in /usr/local/lib/python3.10/dist-packages (from pandas) (2023.4)\n",
            "Requirement already satisfied: tzdata>=2022.1 in /usr/local/lib/python3.10/dist-packages (from pandas) (2024.1)\n",
            "Requirement already satisfied: numpy>=1.21.0 in /usr/local/lib/python3.10/dist-packages (from pandas) (1.25.2)\n",
            "Requirement already satisfied: contourpy>=1.0.1 in /usr/local/lib/python3.10/dist-packages (from matplotlib) (1.2.1)\n",
            "Requirement already satisfied: cycler>=0.10 in /usr/local/lib/python3.10/dist-packages (from matplotlib) (0.12.1)\n",
            "Requirement already satisfied: fonttools>=4.22.0 in /usr/local/lib/python3.10/dist-packages (from matplotlib) (4.51.0)\n",
            "Requirement already satisfied: kiwisolver>=1.0.1 in /usr/local/lib/python3.10/dist-packages (from matplotlib) (1.4.5)\n",
            "Requirement already satisfied: pillow>=6.2.0 in /usr/local/lib/python3.10/dist-packages (from matplotlib) (9.4.0)\n",
            "Requirement already satisfied: pyparsing>=2.3.1 in /usr/local/lib/python3.10/dist-packages (from matplotlib) (3.1.2)\n",
            "Requirement already satisfied: charset-normalizer<4,>=2 in /usr/local/lib/python3.10/dist-packages (from requests) (3.3.2)\n",
            "Requirement already satisfied: idna<4,>=2.5 in /usr/local/lib/python3.10/dist-packages (from requests) (3.7)\n",
            "Requirement already satisfied: urllib3<3,>=1.21.1 in /usr/local/lib/python3.10/dist-packages (from requests) (2.0.7)\n",
            "Requirement already satisfied: certifi>=2017.4.17 in /usr/local/lib/python3.10/dist-packages (from requests) (2024.2.2)\n",
            "Requirement already satisfied: branca>=0.6.0 in /usr/local/lib/python3.10/dist-packages (from folium) (0.7.2)\n",
            "Requirement already satisfied: jinja2>=2.9 in /usr/local/lib/python3.10/dist-packages (from folium) (3.1.4)\n",
            "Requirement already satisfied: attrs>=19.2.0 in /usr/local/lib/python3.10/dist-packages (from fiona>=1.8.19->geopandas) (23.2.0)\n",
            "Requirement already satisfied: click~=8.0 in /usr/local/lib/python3.10/dist-packages (from fiona>=1.8.19->geopandas) (8.1.7)\n",
            "Requirement already satisfied: click-plugins>=1.0 in /usr/local/lib/python3.10/dist-packages (from fiona>=1.8.19->geopandas) (1.1.1)\n",
            "Requirement already satisfied: cligj>=0.5 in /usr/local/lib/python3.10/dist-packages (from fiona>=1.8.19->geopandas) (0.7.2)\n",
            "Requirement already satisfied: six in /usr/local/lib/python3.10/dist-packages (from fiona>=1.8.19->geopandas) (1.16.0)\n",
            "Requirement already satisfied: MarkupSafe>=2.0 in /usr/local/lib/python3.10/dist-packages (from jinja2>=2.9->folium) (2.1.5)\n",
            "Collecting traveltimepy==3.9.6\n",
            "  Downloading traveltimepy-3.9.6-py3-none-any.whl (48 kB)\n",
            "\u001b[2K     \u001b[90m━━━━━━━━━━━━━━━━━━━━━━━━━━━━━━━━━━━━━━━━\u001b[0m \u001b[32m48.7/48.7 kB\u001b[0m \u001b[31m439.5 kB/s\u001b[0m eta \u001b[36m0:00:00\u001b[0m\n",
            "\u001b[?25hRequirement already satisfied: pydantic in /usr/local/lib/python3.10/dist-packages (from traveltimepy==3.9.6) (2.7.1)\n",
            "Requirement already satisfied: typing-extensions in /usr/local/lib/python3.10/dist-packages (from traveltimepy==3.9.6) (4.11.0)\n",
            "Collecting geojson-pydantic>=1.0.1 (from traveltimepy==3.9.6)\n",
            "  Downloading geojson_pydantic-1.1.0-py3-none-any.whl (8.6 kB)\n",
            "Requirement already satisfied: shapely in /usr/local/lib/python3.10/dist-packages (from traveltimepy==3.9.6) (2.0.4)\n",
            "Collecting dacite (from traveltimepy==3.9.6)\n",
            "  Downloading dacite-1.8.1-py3-none-any.whl (14 kB)\n",
            "Requirement already satisfied: certifi>=2021.5.30 in /usr/local/lib/python3.10/dist-packages (from traveltimepy==3.9.6) (2024.2.2)\n",
            "Requirement already satisfied: aiohttp in /usr/local/lib/python3.10/dist-packages (from traveltimepy==3.9.6) (3.9.5)\n",
            "Collecting aiolimiter (from traveltimepy==3.9.6)\n",
            "  Downloading aiolimiter-1.1.0-py3-none-any.whl (7.2 kB)\n",
            "Collecting aiohttp-retry (from traveltimepy==3.9.6)\n",
            "  Downloading aiohttp_retry-2.8.3-py3-none-any.whl (9.8 kB)\n",
            "Collecting protobuf==4.21.12 (from traveltimepy==3.9.6)\n",
            "  Downloading protobuf-4.21.12-cp37-abi3-manylinux2014_x86_64.whl (409 kB)\n",
            "\u001b[2K     \u001b[90m━━━━━━━━━━━━━━━━━━━━━━━━━━━━━━━━━━━━━━━━\u001b[0m \u001b[32m409.8/409.8 kB\u001b[0m \u001b[31m4.8 MB/s\u001b[0m eta \u001b[36m0:00:00\u001b[0m\n",
            "\u001b[?25hRequirement already satisfied: annotated-types>=0.4.0 in /usr/local/lib/python3.10/dist-packages (from pydantic->traveltimepy==3.9.6) (0.6.0)\n",
            "Requirement already satisfied: pydantic-core==2.18.2 in /usr/local/lib/python3.10/dist-packages (from pydantic->traveltimepy==3.9.6) (2.18.2)\n",
            "Requirement already satisfied: aiosignal>=1.1.2 in /usr/local/lib/python3.10/dist-packages (from aiohttp->traveltimepy==3.9.6) (1.3.1)\n",
            "Requirement already satisfied: attrs>=17.3.0 in /usr/local/lib/python3.10/dist-packages (from aiohttp->traveltimepy==3.9.6) (23.2.0)\n",
            "Requirement already satisfied: frozenlist>=1.1.1 in /usr/local/lib/python3.10/dist-packages (from aiohttp->traveltimepy==3.9.6) (1.4.1)\n",
            "Requirement already satisfied: multidict<7.0,>=4.5 in /usr/local/lib/python3.10/dist-packages (from aiohttp->traveltimepy==3.9.6) (6.0.5)\n",
            "Requirement already satisfied: yarl<2.0,>=1.0 in /usr/local/lib/python3.10/dist-packages (from aiohttp->traveltimepy==3.9.6) (1.9.4)\n",
            "Requirement already satisfied: async-timeout<5.0,>=4.0 in /usr/local/lib/python3.10/dist-packages (from aiohttp->traveltimepy==3.9.6) (4.0.3)\n",
            "Requirement already satisfied: numpy<3,>=1.14 in /usr/local/lib/python3.10/dist-packages (from shapely->traveltimepy==3.9.6) (1.25.2)\n",
            "Requirement already satisfied: idna>=2.0 in /usr/local/lib/python3.10/dist-packages (from yarl<2.0,>=1.0->aiohttp->traveltimepy==3.9.6) (3.7)\n",
            "Installing collected packages: protobuf, dacite, aiolimiter, geojson-pydantic, aiohttp-retry, traveltimepy\n",
            "  Attempting uninstall: protobuf\n",
            "    Found existing installation: protobuf 3.20.3\n",
            "    Uninstalling protobuf-3.20.3:\n",
            "      Successfully uninstalled protobuf-3.20.3\n",
            "\u001b[31mERROR: pip's dependency resolver does not currently take into account all the packages that are installed. This behaviour is the source of the following dependency conflicts.\n",
            "tensorflow-metadata 1.15.0 requires protobuf<4.21,>=3.20.3; python_version < \"3.11\", but you have protobuf 4.21.12 which is incompatible.\u001b[0m\u001b[31m\n",
            "\u001b[0mSuccessfully installed aiohttp-retry-2.8.3 aiolimiter-1.1.0 dacite-1.8.1 geojson-pydantic-1.1.0 protobuf-4.21.12 traveltimepy-3.9.6\n"
          ]
        }
      ],
      "source": [
        "# install external libraries necessary for our project:\n",
        "# geopandas, pandas, matplotlib, requests, folium\n",
        "!pip install geopandas pandas matplotlib requests folium\n",
        "\n",
        "# to install traveltimepy, we are using version 3.9.6 because\n",
        "# 3.9.7 is currently having stability issues that affect our code\n",
        "!pip install traveltimepy==3.9.6"
      ]
    },
    {
      "cell_type": "code",
      "source": [
        "# import packages from libraries for analysis, data pre-processing, and visualizations\n",
        "import os\n",
        "import numpy as np\n",
        "import pandas as pd\n",
        "import geopandas as gpd\n",
        "import matplotlib.pyplot as plt\n",
        "from shapely.geometry import Point, Polygon\n",
        "from traveltimepy import TravelTimeSdk\n",
        "from IPython.display import display, HTML\n",
        "import sklearn.preprocessing as skp\n",
        "from sklearn.cluster import KMeans\n",
        "import folium\n",
        "from scipy import stats"
      ],
      "metadata": {
        "id": "x-zDjF3xFVA3"
      },
      "execution_count": null,
      "outputs": []
    },
    {
      "cell_type": "code",
      "source": [
        "app_id = os.getenv('TRAVELTIME_APP_ID', '981c6f8d')\n",
        "api_key = os.getenv('TRAVELTIME_API_KEY', 'c5fffce90d3ee3c78d1aa2f07ca93be3')\n",
        "\n",
        "sdk = TravelTimeSdk(app_id=app_id, api_key=api_key)"
      ],
      "metadata": {
        "id": "Vois8H_gIAJ2"
      },
      "execution_count": null,
      "outputs": []
    },
    {
      "cell_type": "markdown",
      "source": [
        "# Data Pre-Processing"
      ],
      "metadata": {
        "id": "GcH-krBnHDMj"
      }
    },
    {
      "cell_type": "code",
      "source": [
        "# read csv file, store as 'df'\n",
        "df = pd.read_csv(\"ZillowScrape.csv\")\n",
        "\n",
        "for column in df.columns:\n",
        "  print(column) # print out columns to see all of them, pick out which ones are relevant\n",
        "\n",
        "df.head(3) # to get a general idea of the dataset"
      ],
      "metadata": {
        "colab": {
          "base_uri": "https://localhost:8080/",
          "height": 1000
        },
        "id": "dnZJVo7lHZOr",
        "outputId": "c7c02e38-60ac-461d-e400-6476309e9167"
      },
      "execution_count": null,
      "outputs": [
        {
          "output_type": "stream",
          "name": "stdout",
          "text": [
            "address\n",
            "addressCity\n",
            "addressState\n",
            "addressStreet\n",
            "addressZipcode\n",
            "area\n",
            "availabilityCount\n",
            "availabilityDate\n",
            "badgeInfo/text\n",
            "badgeInfo/type\n",
            "baths\n",
            "beds\n",
            "brokerName\n",
            "buildingName\n",
            "canSaveBuilding\n",
            "carouselPhotos/0/url\n",
            "carouselPhotos/1/url\n",
            "carouselPhotos/2/url\n",
            "carouselPhotos/3/url\n",
            "carouselPhotos/4/url\n",
            "carouselPhotos/5/url\n",
            "carouselPhotos/6/url\n",
            "carouselPhotos/7/url\n",
            "carouselPhotos/8/url\n",
            "carouselPhotos/9/url\n",
            "carouselPhotos/10/url\n",
            "carouselPhotos/11/url\n",
            "carouselPhotos/12/url\n",
            "carouselPhotos/13/url\n",
            "carouselPhotos/14/url\n",
            "carouselPhotos/15/url\n",
            "carouselPhotos/16/url\n",
            "carouselPhotos/17/url\n",
            "carouselPhotos/18/url\n",
            "carouselPhotos/19/url\n",
            "carouselPhotos/20/url\n",
            "carouselPhotos/21/url\n",
            "carouselPhotos/22/url\n",
            "carouselPhotos/23/url\n",
            "carouselPhotos/24/url\n",
            "carouselPhotos/25/url\n",
            "carouselPhotos/26/url\n",
            "carouselPhotos/27/url\n",
            "carouselPhotos/28/url\n",
            "carouselPhotos/29/url\n",
            "carouselPhotos/30/url\n",
            "carouselPhotos/31/url\n",
            "carouselPhotos/32/url\n",
            "carouselPhotos/33/url\n",
            "carouselPhotos/34/url\n",
            "carouselPhotos/35/url\n",
            "carouselPhotos/36/url\n",
            "carouselPhotos/37/url\n",
            "carouselPhotos/38/url\n",
            "carouselPhotos/39/url\n",
            "carouselPhotos/40/url\n",
            "carouselPhotos/41/url\n",
            "carouselPhotos/42/url\n",
            "carouselPhotos/43/url\n",
            "carouselPhotos/44/url\n",
            "carouselPhotos/45/url\n",
            "carouselPhotos/46/url\n",
            "carouselPhotos/47/url\n",
            "carouselPhotos/48/url\n",
            "carouselPhotos/49/url\n",
            "carouselPhotos/50/url\n",
            "carouselPhotos/51/url\n",
            "carouselPhotos/52/url\n",
            "carouselPhotos/53/url\n",
            "carouselPhotos/54/url\n",
            "carouselPhotos/55/url\n",
            "carouselPhotos/56/url\n",
            "carouselPhotos/57/url\n",
            "carouselPhotos/58/url\n",
            "carouselPhotos/59/url\n",
            "carouselPhotos/60/url\n",
            "carouselPhotos/61/url\n",
            "carouselPhotos/62/url\n",
            "carouselPhotos/63/url\n",
            "carouselPhotos/64/url\n",
            "carouselPhotos/65/url\n",
            "carouselPhotos/66/url\n",
            "carouselPhotos/67/url\n",
            "carouselPhotos/68/url\n",
            "carouselPhotos/69/url\n",
            "carouselPhotos/70/url\n",
            "carouselPhotos/71/url\n",
            "carouselPhotos/72/url\n",
            "carouselPhotos/73/url\n",
            "carouselPhotos/74/url\n",
            "carouselPhotos/75/url\n",
            "carouselPhotos/76/url\n",
            "carouselPhotos/77/url\n",
            "carouselPhotos/78/url\n",
            "carouselPhotos/79/url\n",
            "carouselPhotos/80/url\n",
            "carouselPhotos/81/url\n",
            "carouselPhotos/82/url\n",
            "carouselPhotos/83/url\n",
            "carouselPhotos/84/url\n",
            "carouselPhotos/85/url\n",
            "carouselPhotos/86/url\n",
            "carouselPhotos/87/url\n",
            "carouselPhotos/88/url\n",
            "carouselPhotos/89/url\n",
            "carouselPhotos/90/url\n",
            "carouselPhotos/91/url\n",
            "carouselPhotos/92/url\n",
            "countryCurrency\n",
            "detailUrl\n",
            "foundFromSearchUrl\n",
            "foundOnSearchPage\n",
            "has3DModel\n",
            "hasAdditionalAttributions\n",
            "hasImage\n",
            "hasOpenHouse\n",
            "hasVideo\n",
            "hdpData/homeInfo/bathrooms\n",
            "hdpData/homeInfo/bedrooms\n",
            "hdpData/homeInfo/city\n",
            "hdpData/homeInfo/country\n",
            "hdpData/homeInfo/currency\n",
            "hdpData/homeInfo/datePriceChanged\n",
            "hdpData/homeInfo/daysOnZillow\n",
            "hdpData/homeInfo/homeStatus\n",
            "hdpData/homeInfo/homeStatusForHDP\n",
            "hdpData/homeInfo/homeType\n",
            "hdpData/homeInfo/isFeatured\n",
            "hdpData/homeInfo/isNonOwnerOccupied\n",
            "hdpData/homeInfo/isPreforeclosureAuction\n",
            "hdpData/homeInfo/isPremierBuilder\n",
            "hdpData/homeInfo/isRentalWithBasePrice\n",
            "hdpData/homeInfo/isShowcaseListing\n",
            "hdpData/homeInfo/isUnmappable\n",
            "hdpData/homeInfo/isZillowOwned\n",
            "hdpData/homeInfo/latitude\n",
            "hdpData/homeInfo/listing_sub_type/is_openHouse\n",
            "hdpData/homeInfo/livingArea\n",
            "hdpData/homeInfo/longitude\n",
            "hdpData/homeInfo/openHouse\n",
            "hdpData/homeInfo/open_house_info/open_house_showing/0/open_house_end\n",
            "hdpData/homeInfo/open_house_info/open_house_showing/0/open_house_start\n",
            "hdpData/homeInfo/open_house_info/open_house_showing/1/open_house_end\n",
            "hdpData/homeInfo/open_house_info/open_house_showing/1/open_house_start\n",
            "hdpData/homeInfo/open_house_info/open_house_showing/2/open_house_end\n",
            "hdpData/homeInfo/open_house_info/open_house_showing/2/open_house_start\n",
            "hdpData/homeInfo/open_house_info/open_house_showing/3/open_house_end\n",
            "hdpData/homeInfo/open_house_info/open_house_showing/3/open_house_start\n",
            "hdpData/homeInfo/open_house_info/open_house_showing/4/open_house_end\n",
            "hdpData/homeInfo/open_house_info/open_house_showing/4/open_house_start\n",
            "hdpData/homeInfo/open_house_info/open_house_showing/5/open_house_end\n",
            "hdpData/homeInfo/open_house_info/open_house_showing/5/open_house_start\n",
            "hdpData/homeInfo/open_house_info/open_house_showing/6/open_house_end\n",
            "hdpData/homeInfo/open_house_info/open_house_showing/6/open_house_start\n",
            "hdpData/homeInfo/open_house_info/open_house_showing/7/open_house_end\n",
            "hdpData/homeInfo/open_house_info/open_house_showing/7/open_house_start\n",
            "hdpData/homeInfo/open_house_info/open_house_showing/8/open_house_end\n",
            "hdpData/homeInfo/open_house_info/open_house_showing/8/open_house_start\n",
            "hdpData/homeInfo/open_house_info/open_house_showing/9/open_house_end\n",
            "hdpData/homeInfo/open_house_info/open_house_showing/9/open_house_start\n",
            "hdpData/homeInfo/open_house_info/open_house_showing/10/open_house_end\n",
            "hdpData/homeInfo/open_house_info/open_house_showing/10/open_house_start\n",
            "hdpData/homeInfo/open_house_info/open_house_showing/11/open_house_end\n",
            "hdpData/homeInfo/open_house_info/open_house_showing/11/open_house_start\n",
            "hdpData/homeInfo/open_house_info/open_house_showing/12/open_house_end\n",
            "hdpData/homeInfo/open_house_info/open_house_showing/12/open_house_start\n",
            "hdpData/homeInfo/open_house_info/open_house_showing/13/open_house_end\n",
            "hdpData/homeInfo/open_house_info/open_house_showing/13/open_house_start\n",
            "hdpData/homeInfo/open_house_info/open_house_showing/14/open_house_end\n",
            "hdpData/homeInfo/open_house_info/open_house_showing/14/open_house_start\n",
            "hdpData/homeInfo/price\n",
            "hdpData/homeInfo/priceChange\n",
            "hdpData/homeInfo/priceForHDP\n",
            "hdpData/homeInfo/priceReduction\n",
            "hdpData/homeInfo/rentZestimate\n",
            "hdpData/homeInfo/shouldHighlight\n",
            "hdpData/homeInfo/state\n",
            "hdpData/homeInfo/streetAddress\n",
            "hdpData/homeInfo/taxAssessedValue\n",
            "hdpData/homeInfo/timeOnZillow\n",
            "hdpData/homeInfo/unit\n",
            "hdpData/homeInfo/videoCount\n",
            "hdpData/homeInfo/zestimate\n",
            "hdpData/homeInfo/zipcode\n",
            "hdpData/homeInfo/zpid\n",
            "id\n",
            "imgSrc\n",
            "isBuilding\n",
            "isFeaturedListing\n",
            "isHomeRec\n",
            "isSaved\n",
            "isShowcaseListing\n",
            "isUndisclosedAddress\n",
            "isUserClaimingOwner\n",
            "isUserConfirmedClaim\n",
            "isZillowOwned\n",
            "latLong/latitude\n",
            "latLong/longitude\n",
            "list\n",
            "lotId\n",
            "marketingStatusSimplifiedCd\n",
            "openHouseDescription\n",
            "openHouseEndDate\n",
            "openHouseStartDate\n",
            "pgapt\n",
            "price\n",
            "providerListingId\n",
            "rawHomeStatusCd\n",
            "relaxed\n",
            "sgapt\n",
            "shouldShowZestimateAsPrice\n",
            "statusText\n",
            "statusType\n",
            "streetViewMetadataURL\n",
            "streetViewURL\n",
            "unformattedPrice\n",
            "units/0/beds\n",
            "units/0/price\n",
            "units/0/roomForRent\n",
            "units/1/beds\n",
            "units/1/price\n",
            "units/1/roomForRent\n",
            "units/2/beds\n",
            "units/2/price\n",
            "units/2/roomForRent\n",
            "units/3/beds\n",
            "units/3/price\n",
            "units/3/roomForRent\n",
            "units/4/beds\n",
            "units/4/price\n",
            "units/4/roomForRent\n",
            "variableData/data/isFresh\n",
            "variableData/data/isRead\n",
            "variableData/text\n",
            "variableData/type\n",
            "zestimate\n",
            "zoomQuadrantSequence/0\n",
            "zoomQuadrantSequence/1\n",
            "zoomQuadrantSequence/2\n",
            "zoomQuadrantSequence/3\n",
            "zpid\n"
          ]
        },
        {
          "output_type": "execute_result",
          "data": {
            "text/plain": [
              "                       address addressCity addressState  \\\n",
              "0    776 6th Ave, New York, NY    New York           NY   \n",
              "1    11 E 1st St, New York, NY    New York           NY   \n",
              "2  160 W 24th St, New York, NY    New York           NY   \n",
              "\n",
              "              addressStreet  addressZipcode  area  availabilityCount  \\\n",
              "0         776 6th Ave # 27M           10001   NaN               23.0   \n",
              "1  11 E  1st St # 5a738dede           10003   NaN               14.0   \n",
              "2    160 W  24th St # 1-14F           10011   NaN               13.0   \n",
              "\n",
              "  availabilityDate badgeInfo/text badgeInfo/type  ...  \\\n",
              "0              NaN            NaN            NaN  ...   \n",
              "1              NaN            NaN            NaN  ...   \n",
              "2              NaN            NaN            NaN  ...   \n",
              "\n",
              "   variableData/data/isFresh  variableData/data/isRead variableData/text  \\\n",
              "0                        NaN                       NaN           3D Tour   \n",
              "1                        NaN                       NaN               NaN   \n",
              "2                        NaN                       NaN           3D Tour   \n",
              "\n",
              "  variableData/type zestimate zoomQuadrantSequence/0 zoomQuadrantSequence/1  \\\n",
              "0           3D_HOME       NaN                    NaN                    NaN   \n",
              "1      TIME_ON_INFO       NaN                    NaN                    NaN   \n",
              "2           3D_HOME       NaN                    NaN                    NaN   \n",
              "\n",
              "  zoomQuadrantSequence/2 zoomQuadrantSequence/3                  zpid  \n",
              "0                    NaN                    NaN   40.744976--73.99104  \n",
              "1                    NaN                    NaN  40.724564--73.991486  \n",
              "2                    NaN                    NaN   40.744576--73.99493  \n",
              "\n",
              "[3 rows x 241 columns]"
            ],
            "text/html": [
              "\n",
              "  <div id=\"df-6fecd89e-e49d-4267-b004-d7d1d98b887b\" class=\"colab-df-container\">\n",
              "    <div>\n",
              "<style scoped>\n",
              "    .dataframe tbody tr th:only-of-type {\n",
              "        vertical-align: middle;\n",
              "    }\n",
              "\n",
              "    .dataframe tbody tr th {\n",
              "        vertical-align: top;\n",
              "    }\n",
              "\n",
              "    .dataframe thead th {\n",
              "        text-align: right;\n",
              "    }\n",
              "</style>\n",
              "<table border=\"1\" class=\"dataframe\">\n",
              "  <thead>\n",
              "    <tr style=\"text-align: right;\">\n",
              "      <th></th>\n",
              "      <th>address</th>\n",
              "      <th>addressCity</th>\n",
              "      <th>addressState</th>\n",
              "      <th>addressStreet</th>\n",
              "      <th>addressZipcode</th>\n",
              "      <th>area</th>\n",
              "      <th>availabilityCount</th>\n",
              "      <th>availabilityDate</th>\n",
              "      <th>badgeInfo/text</th>\n",
              "      <th>badgeInfo/type</th>\n",
              "      <th>...</th>\n",
              "      <th>variableData/data/isFresh</th>\n",
              "      <th>variableData/data/isRead</th>\n",
              "      <th>variableData/text</th>\n",
              "      <th>variableData/type</th>\n",
              "      <th>zestimate</th>\n",
              "      <th>zoomQuadrantSequence/0</th>\n",
              "      <th>zoomQuadrantSequence/1</th>\n",
              "      <th>zoomQuadrantSequence/2</th>\n",
              "      <th>zoomQuadrantSequence/3</th>\n",
              "      <th>zpid</th>\n",
              "    </tr>\n",
              "  </thead>\n",
              "  <tbody>\n",
              "    <tr>\n",
              "      <th>0</th>\n",
              "      <td>776 6th Ave, New York, NY</td>\n",
              "      <td>New York</td>\n",
              "      <td>NY</td>\n",
              "      <td>776 6th Ave # 27M</td>\n",
              "      <td>10001</td>\n",
              "      <td>NaN</td>\n",
              "      <td>23.0</td>\n",
              "      <td>NaN</td>\n",
              "      <td>NaN</td>\n",
              "      <td>NaN</td>\n",
              "      <td>...</td>\n",
              "      <td>NaN</td>\n",
              "      <td>NaN</td>\n",
              "      <td>3D Tour</td>\n",
              "      <td>3D_HOME</td>\n",
              "      <td>NaN</td>\n",
              "      <td>NaN</td>\n",
              "      <td>NaN</td>\n",
              "      <td>NaN</td>\n",
              "      <td>NaN</td>\n",
              "      <td>40.744976--73.99104</td>\n",
              "    </tr>\n",
              "    <tr>\n",
              "      <th>1</th>\n",
              "      <td>11 E 1st St, New York, NY</td>\n",
              "      <td>New York</td>\n",
              "      <td>NY</td>\n",
              "      <td>11 E  1st St # 5a738dede</td>\n",
              "      <td>10003</td>\n",
              "      <td>NaN</td>\n",
              "      <td>14.0</td>\n",
              "      <td>NaN</td>\n",
              "      <td>NaN</td>\n",
              "      <td>NaN</td>\n",
              "      <td>...</td>\n",
              "      <td>NaN</td>\n",
              "      <td>NaN</td>\n",
              "      <td>NaN</td>\n",
              "      <td>TIME_ON_INFO</td>\n",
              "      <td>NaN</td>\n",
              "      <td>NaN</td>\n",
              "      <td>NaN</td>\n",
              "      <td>NaN</td>\n",
              "      <td>NaN</td>\n",
              "      <td>40.724564--73.991486</td>\n",
              "    </tr>\n",
              "    <tr>\n",
              "      <th>2</th>\n",
              "      <td>160 W 24th St, New York, NY</td>\n",
              "      <td>New York</td>\n",
              "      <td>NY</td>\n",
              "      <td>160 W  24th St # 1-14F</td>\n",
              "      <td>10011</td>\n",
              "      <td>NaN</td>\n",
              "      <td>13.0</td>\n",
              "      <td>NaN</td>\n",
              "      <td>NaN</td>\n",
              "      <td>NaN</td>\n",
              "      <td>...</td>\n",
              "      <td>NaN</td>\n",
              "      <td>NaN</td>\n",
              "      <td>3D Tour</td>\n",
              "      <td>3D_HOME</td>\n",
              "      <td>NaN</td>\n",
              "      <td>NaN</td>\n",
              "      <td>NaN</td>\n",
              "      <td>NaN</td>\n",
              "      <td>NaN</td>\n",
              "      <td>40.744576--73.99493</td>\n",
              "    </tr>\n",
              "  </tbody>\n",
              "</table>\n",
              "<p>3 rows × 241 columns</p>\n",
              "</div>\n",
              "    <div class=\"colab-df-buttons\">\n",
              "\n",
              "  <div class=\"colab-df-container\">\n",
              "    <button class=\"colab-df-convert\" onclick=\"convertToInteractive('df-6fecd89e-e49d-4267-b004-d7d1d98b887b')\"\n",
              "            title=\"Convert this dataframe to an interactive table.\"\n",
              "            style=\"display:none;\">\n",
              "\n",
              "  <svg xmlns=\"http://www.w3.org/2000/svg\" height=\"24px\" viewBox=\"0 -960 960 960\">\n",
              "    <path d=\"M120-120v-720h720v720H120Zm60-500h600v-160H180v160Zm220 220h160v-160H400v160Zm0 220h160v-160H400v160ZM180-400h160v-160H180v160Zm440 0h160v-160H620v160ZM180-180h160v-160H180v160Zm440 0h160v-160H620v160Z\"/>\n",
              "  </svg>\n",
              "    </button>\n",
              "\n",
              "  <style>\n",
              "    .colab-df-container {\n",
              "      display:flex;\n",
              "      gap: 12px;\n",
              "    }\n",
              "\n",
              "    .colab-df-convert {\n",
              "      background-color: #E8F0FE;\n",
              "      border: none;\n",
              "      border-radius: 50%;\n",
              "      cursor: pointer;\n",
              "      display: none;\n",
              "      fill: #1967D2;\n",
              "      height: 32px;\n",
              "      padding: 0 0 0 0;\n",
              "      width: 32px;\n",
              "    }\n",
              "\n",
              "    .colab-df-convert:hover {\n",
              "      background-color: #E2EBFA;\n",
              "      box-shadow: 0px 1px 2px rgba(60, 64, 67, 0.3), 0px 1px 3px 1px rgba(60, 64, 67, 0.15);\n",
              "      fill: #174EA6;\n",
              "    }\n",
              "\n",
              "    .colab-df-buttons div {\n",
              "      margin-bottom: 4px;\n",
              "    }\n",
              "\n",
              "    [theme=dark] .colab-df-convert {\n",
              "      background-color: #3B4455;\n",
              "      fill: #D2E3FC;\n",
              "    }\n",
              "\n",
              "    [theme=dark] .colab-df-convert:hover {\n",
              "      background-color: #434B5C;\n",
              "      box-shadow: 0px 1px 3px 1px rgba(0, 0, 0, 0.15);\n",
              "      filter: drop-shadow(0px 1px 2px rgba(0, 0, 0, 0.3));\n",
              "      fill: #FFFFFF;\n",
              "    }\n",
              "  </style>\n",
              "\n",
              "    <script>\n",
              "      const buttonEl =\n",
              "        document.querySelector('#df-6fecd89e-e49d-4267-b004-d7d1d98b887b button.colab-df-convert');\n",
              "      buttonEl.style.display =\n",
              "        google.colab.kernel.accessAllowed ? 'block' : 'none';\n",
              "\n",
              "      async function convertToInteractive(key) {\n",
              "        const element = document.querySelector('#df-6fecd89e-e49d-4267-b004-d7d1d98b887b');\n",
              "        const dataTable =\n",
              "          await google.colab.kernel.invokeFunction('convertToInteractive',\n",
              "                                                    [key], {});\n",
              "        if (!dataTable) return;\n",
              "\n",
              "        const docLinkHtml = 'Like what you see? Visit the ' +\n",
              "          '<a target=\"_blank\" href=https://colab.research.google.com/notebooks/data_table.ipynb>data table notebook</a>'\n",
              "          + ' to learn more about interactive tables.';\n",
              "        element.innerHTML = '';\n",
              "        dataTable['output_type'] = 'display_data';\n",
              "        await google.colab.output.renderOutput(dataTable, element);\n",
              "        const docLink = document.createElement('div');\n",
              "        docLink.innerHTML = docLinkHtml;\n",
              "        element.appendChild(docLink);\n",
              "      }\n",
              "    </script>\n",
              "  </div>\n",
              "\n",
              "\n",
              "<div id=\"df-e57658d3-ef56-44d9-a824-5bf07e74d62a\">\n",
              "  <button class=\"colab-df-quickchart\" onclick=\"quickchart('df-e57658d3-ef56-44d9-a824-5bf07e74d62a')\"\n",
              "            title=\"Suggest charts\"\n",
              "            style=\"display:none;\">\n",
              "\n",
              "<svg xmlns=\"http://www.w3.org/2000/svg\" height=\"24px\"viewBox=\"0 0 24 24\"\n",
              "     width=\"24px\">\n",
              "    <g>\n",
              "        <path d=\"M19 3H5c-1.1 0-2 .9-2 2v14c0 1.1.9 2 2 2h14c1.1 0 2-.9 2-2V5c0-1.1-.9-2-2-2zM9 17H7v-7h2v7zm4 0h-2V7h2v10zm4 0h-2v-4h2v4z\"/>\n",
              "    </g>\n",
              "</svg>\n",
              "  </button>\n",
              "\n",
              "<style>\n",
              "  .colab-df-quickchart {\n",
              "      --bg-color: #E8F0FE;\n",
              "      --fill-color: #1967D2;\n",
              "      --hover-bg-color: #E2EBFA;\n",
              "      --hover-fill-color: #174EA6;\n",
              "      --disabled-fill-color: #AAA;\n",
              "      --disabled-bg-color: #DDD;\n",
              "  }\n",
              "\n",
              "  [theme=dark] .colab-df-quickchart {\n",
              "      --bg-color: #3B4455;\n",
              "      --fill-color: #D2E3FC;\n",
              "      --hover-bg-color: #434B5C;\n",
              "      --hover-fill-color: #FFFFFF;\n",
              "      --disabled-bg-color: #3B4455;\n",
              "      --disabled-fill-color: #666;\n",
              "  }\n",
              "\n",
              "  .colab-df-quickchart {\n",
              "    background-color: var(--bg-color);\n",
              "    border: none;\n",
              "    border-radius: 50%;\n",
              "    cursor: pointer;\n",
              "    display: none;\n",
              "    fill: var(--fill-color);\n",
              "    height: 32px;\n",
              "    padding: 0;\n",
              "    width: 32px;\n",
              "  }\n",
              "\n",
              "  .colab-df-quickchart:hover {\n",
              "    background-color: var(--hover-bg-color);\n",
              "    box-shadow: 0 1px 2px rgba(60, 64, 67, 0.3), 0 1px 3px 1px rgba(60, 64, 67, 0.15);\n",
              "    fill: var(--button-hover-fill-color);\n",
              "  }\n",
              "\n",
              "  .colab-df-quickchart-complete:disabled,\n",
              "  .colab-df-quickchart-complete:disabled:hover {\n",
              "    background-color: var(--disabled-bg-color);\n",
              "    fill: var(--disabled-fill-color);\n",
              "    box-shadow: none;\n",
              "  }\n",
              "\n",
              "  .colab-df-spinner {\n",
              "    border: 2px solid var(--fill-color);\n",
              "    border-color: transparent;\n",
              "    border-bottom-color: var(--fill-color);\n",
              "    animation:\n",
              "      spin 1s steps(1) infinite;\n",
              "  }\n",
              "\n",
              "  @keyframes spin {\n",
              "    0% {\n",
              "      border-color: transparent;\n",
              "      border-bottom-color: var(--fill-color);\n",
              "      border-left-color: var(--fill-color);\n",
              "    }\n",
              "    20% {\n",
              "      border-color: transparent;\n",
              "      border-left-color: var(--fill-color);\n",
              "      border-top-color: var(--fill-color);\n",
              "    }\n",
              "    30% {\n",
              "      border-color: transparent;\n",
              "      border-left-color: var(--fill-color);\n",
              "      border-top-color: var(--fill-color);\n",
              "      border-right-color: var(--fill-color);\n",
              "    }\n",
              "    40% {\n",
              "      border-color: transparent;\n",
              "      border-right-color: var(--fill-color);\n",
              "      border-top-color: var(--fill-color);\n",
              "    }\n",
              "    60% {\n",
              "      border-color: transparent;\n",
              "      border-right-color: var(--fill-color);\n",
              "    }\n",
              "    80% {\n",
              "      border-color: transparent;\n",
              "      border-right-color: var(--fill-color);\n",
              "      border-bottom-color: var(--fill-color);\n",
              "    }\n",
              "    90% {\n",
              "      border-color: transparent;\n",
              "      border-bottom-color: var(--fill-color);\n",
              "    }\n",
              "  }\n",
              "</style>\n",
              "\n",
              "  <script>\n",
              "    async function quickchart(key) {\n",
              "      const quickchartButtonEl =\n",
              "        document.querySelector('#' + key + ' button');\n",
              "      quickchartButtonEl.disabled = true;  // To prevent multiple clicks.\n",
              "      quickchartButtonEl.classList.add('colab-df-spinner');\n",
              "      try {\n",
              "        const charts = await google.colab.kernel.invokeFunction(\n",
              "            'suggestCharts', [key], {});\n",
              "      } catch (error) {\n",
              "        console.error('Error during call to suggestCharts:', error);\n",
              "      }\n",
              "      quickchartButtonEl.classList.remove('colab-df-spinner');\n",
              "      quickchartButtonEl.classList.add('colab-df-quickchart-complete');\n",
              "    }\n",
              "    (() => {\n",
              "      let quickchartButtonEl =\n",
              "        document.querySelector('#df-e57658d3-ef56-44d9-a824-5bf07e74d62a button');\n",
              "      quickchartButtonEl.style.display =\n",
              "        google.colab.kernel.accessAllowed ? 'block' : 'none';\n",
              "    })();\n",
              "  </script>\n",
              "</div>\n",
              "    </div>\n",
              "  </div>\n"
            ],
            "application/vnd.google.colaboratory.intrinsic+json": {
              "type": "dataframe",
              "variable_name": "df"
            }
          },
          "metadata": {},
          "execution_count": 5
        }
      ]
    },
    {
      "cell_type": "markdown",
      "source": [
        "Looking through the columns, we first looked at the columns: `address`, `area`, `units/{i}/beds`, `baths`, `units/{i}/price`, `latLong/latitude`, and `latLong/longitude`. For clarification, if a listing has \"0\" beds, it simply means the apartment is a studio and has no separate rooms for the bed.\n",
        "\n",
        " We first decided to check for the NA count for columns, to see whether or not they would be viable to use in our analysis later on. We we will not be looking at `units/{i}/beds` or `units/{i}/price` as apartments will vary in the number of bedrooms.\n",
        "\n"
      ],
      "metadata": {
        "id": "z8BogiixJ8T_"
      }
    },
    {
      "cell_type": "code",
      "source": [
        "# create a list of tentative columns that we plan on using for our project\n",
        "tentative_columns = ['address', 'area', 'baths', 'latLong/latitude', 'latLong/longitude']\n",
        "\n",
        "# for loop that prints the number of na values in each of these columns\n",
        "print(\"# of NA values by column\")\n",
        "for column in tentative_columns:\n",
        "  print(column, ':', np.sum(df[column].isna()))\n",
        "\n",
        "print()\n",
        "print(f'The dataframe has {df.shape[0]} rows') # print number of rows to get a grasp of how impactful the NaN values are"
      ],
      "metadata": {
        "colab": {
          "base_uri": "https://localhost:8080/"
        },
        "id": "DJYoI369POOy",
        "outputId": "703f5433-fcff-4f3d-d9b6-ae20a6e057a2"
      },
      "execution_count": null,
      "outputs": [
        {
          "output_type": "stream",
          "name": "stdout",
          "text": [
            "# of NA values by column\n",
            "address : 0\n",
            "area : 2836\n",
            "baths : 982\n",
            "latLong/latitude : 0\n",
            "latLong/longitude : 0\n",
            "\n",
            "The dataframe has 3486 rows\n"
          ]
        }
      ]
    },
    {
      "cell_type": "markdown",
      "source": [
        "Based on our tentative columns for our final dataframe, we see that out of 3486 rows, 2836 do not have data for `area`. Thus, we will not use it. Now that we know the relevant columns, we can move onto further pre-processing. As for missing values in `baths`, we know that apartments MUST have a bathroom in the vicinity, and thus will default the value as 1."
      ],
      "metadata": {
        "id": "7KowZepSfwpU"
      }
    },
    {
      "cell_type": "code",
      "source": [
        "# helper function clean_price, removes unnecessary characters from 'price' column\n",
        "# to only get price in float form. If no price, returns NaN\n",
        "def clean_price(price):\n",
        "    if pd.notna(price):\n",
        "        return float(price.replace('$', '').replace(',', '').replace('+', '').replace('/mo', ''))\n",
        "    return np.nan\n",
        "\n",
        "expanded_rows = []\n",
        "\n",
        "# for loop that iterates over each row in the original df\n",
        "for _, row in df.iterrows():\n",
        "    row_added = False  # flag to check if any row was added for this entry\n",
        "\n",
        "    # for loop that checks each unit column from 0 to 5 (assuming a maximum of 6 units as an example cause i saw nothing above 6)\n",
        "    for i in range(6):\n",
        "        unit_beds = row.get(f'units/{i}/beds')\n",
        "        unit_price = row.get(f'units/{i}/price')\n",
        "        unit_baths = row.get(f'baths')\n",
        "\n",
        "        # if statement that checks if unit beds is a valid value to insert\n",
        "        if pd.notna(unit_beds):\n",
        "            beds = int(unit_beds) # cast as int\n",
        "\n",
        "            # normalize NaN 'bath' values for studios and 1 bedroom units, if applicable\n",
        "            if pd.isna(unit_baths) and beds == 1:\n",
        "                unit_baths = 1.0\n",
        "\n",
        "            # skip rows where beds are zero (no apartments available)\n",
        "            if beds > 0:\n",
        "                # create a new row for each bed unit based on the number of beds\n",
        "                for _ in range(beds):\n",
        "                    new_row = {\n",
        "                        'address': (row['address']),\n",
        "                        'beds': beds,\n",
        "                        'baths': unit_baths if pd.notna(unit_baths) else np.nan,\n",
        "                        'price': clean_price(unit_price),\n",
        "                        'latitude': row.get('latLong/latitude', None),\n",
        "                        'longitude': row.get('latLong/longitude', None),\n",
        "                    }\n",
        "                    expanded_rows.append(new_row)\n",
        "                    row_added = True\n",
        "\n",
        "    # if statement for case when no rows have been added from any unit, consider adding the original row if necessary\n",
        "    if not row_added:\n",
        "        new_row = {\n",
        "            'address': row['address'],\n",
        "            'beds': row.get('beds'),\n",
        "            'baths': row.get('baths') if pd.notna(row['baths']) else np.nan,\n",
        "            'price': clean_price(row.get('price')),\n",
        "            'latitude': row.get('latLong/latitude', None),\n",
        "            'longitude': row.get('latLong/longitude', None),\n",
        "        }\n",
        "        expanded_rows.append(new_row)\n",
        "\n",
        "# create a new df 'expanded_df' from the expanded rows\n",
        "expanded_df = pd.DataFrame(expanded_rows)\n",
        "\n",
        "# some price values within the DataFrame had irregular values for those columns. The prices are adjusted here\n",
        "indices_to_update = [154, 155, 156, 157]\n",
        "expanded_df.loc[indices_to_update, 'price'] = 7250\n",
        "\n",
        "expanded_df.head(3) # print to check if code works properly\n",
        "expanded_df.shape"
      ],
      "metadata": {
        "colab": {
          "base_uri": "https://localhost:8080/"
        },
        "id": "CrhMu4ktgiYX",
        "outputId": "f4801301-3057-4b18-f8f4-25c18118e179"
      },
      "execution_count": null,
      "outputs": [
        {
          "output_type": "execute_result",
          "data": {
            "text/plain": [
              "(5556, 6)"
            ]
          },
          "metadata": {},
          "execution_count": 7
        }
      ]
    },
    {
      "cell_type": "markdown",
      "source": [
        "Now that we have reformatted the data so that each variable is now separate and organized in its proper column, we did further pre-processing by removing NaN values, as well as implementing feature engineering by adding columns `neighborhood` (derived from latitude and longitude) and `total rooms` (derived from adding the number of bedrooms and bathrooms with a \"base room\" like a living room)."
      ],
      "metadata": {
        "id": "5dfXzWE2iZ2d"
      }
    },
    {
      "cell_type": "code",
      "source": [
        "# remove rows with NaN values in 'beds', 'baths', and 'price'\n",
        "# declare how as 'all' so that ONLY columns where ALL 3 columns are NaN are dropped\n",
        "temp_df = expanded_df.dropna(subset=['beds', 'baths', 'price'], how='all')\n",
        "temp_df.shape"
      ],
      "metadata": {
        "colab": {
          "base_uri": "https://localhost:8080/"
        },
        "id": "lTJl0HxKITsd",
        "outputId": "e4e1a484-f6ef-43c4-8aad-05cd235c4844"
      },
      "execution_count": null,
      "outputs": [
        {
          "output_type": "execute_result",
          "data": {
            "text/plain": [
              "(5507, 6)"
            ]
          },
          "metadata": {},
          "execution_count": 8
        }
      ]
    },
    {
      "cell_type": "code",
      "source": [
        "### Now we need to replace NaN 'baths' values with its average based on the number of beds in the apartment ###\n",
        "\n",
        "# create a function that determines average number of bathrooms in apartments that have NaN as bathroom, round to nearest whole number\n",
        "bath_means = temp_df.groupby('beds')['baths'].mean().round(0)\n",
        "\n",
        "# function fill_bathrooms, takes a row in dataframe as input. if the row has an\n",
        "# NaN value for 'baths', replace with the calculated average\n",
        "def fill_bathrooms(row):\n",
        "    if pd.isna(row['baths']):\n",
        "        return bath_means.get(row['beds'], np.nan)  # default to NaN if no mean available for that bed count\n",
        "    return row['baths']\n",
        "\n",
        "cleaned_df = temp_df.copy() # create a copy of the temporary dataframe to store as cleaned_df\n",
        "cleaned_df['baths'] = cleaned_df.apply(fill_bathrooms, axis=1) # apply function 'fill_bathrooms' to 'baths' column"
      ],
      "metadata": {
        "id": "_KorBWcIKKMD"
      },
      "execution_count": null,
      "outputs": []
    },
    {
      "cell_type": "code",
      "source": [
        "# Feature engineering, adding 'neighborhood' column\n",
        "# To implement the column 'neighborhood', we created a mapping dictionary based on\n",
        "# neighborhood name, latitude, and longitude.\n",
        "\n",
        "neighborhood_data = { # Hand collected via Google Maps\n",
        "    \"name\": [\"Alphabet City\", \"Battery Park City\", \"Carnegie Hill\", \"Chelsea\", \"Chinatown\",\n",
        "             \"Clinton\", \"East Harlem\", \"East Village\", \"Financial District\", \"Flatiron District\",\n",
        "             \"Gramercy Park\", \"Greenwich Village\", \"Harlem\", \"Hells Kitchen\", \"Inwood\",\n",
        "             \"Kips Bay\", \"Lincoln Square\", \"Little Italy\", \"Lower East Side\", \"Manhattan Valley\",\n",
        "             \"Midtown East\", \"Morningside Heights\", \"Murray Hill\", \"Roosevelt Island\", \"SoHo\",\n",
        "             \"Tribeca\", \"Upper East Side\", \"Upper West Side\", \"Washington Heights\", \"West Village\"],\n",
        "    \"latitude\": [40.726000, 40.713000, 40.784726, 40.746000, 40.715000,\n",
        "                 40.764000, 40.795000, 40.728000, 40.708000, 40.740800,\n",
        "                 40.737800, 40.734000, 40.815130, 40.764000, 40.867000,\n",
        "                 40.741000, 40.773828, 40.719000, 40.715000, 40.799353,\n",
        "                 40.747000, 40.809722, 40.748000, 40.761389, 40.723000,\n",
        "                 40.718000, 40.769000, 40.787000, 40.840000, 40.736000],\n",
        "    \"longitude\": [-73.979000, -74.016000, -73.956070, -74.001000, -73.997000,\n",
        "                  -73.992000, -73.939000, -73.986000, -74.011000, -73.989600,\n",
        "                  -73.986100, -74.002000, -73.947515, -73.992000, -73.922000,\n",
        "                  -73.978000, -73.984472, -73.997000, -73.985000, -73.962919,\n",
        "                  -73.986000, -73.960278, -73.978000, -73.950833, -74.000000,\n",
        "                  -74.008000, -73.966000, -73.975000, -73.940000, -74.004000]\n",
        "}\n",
        "\n",
        "neighborhoods = pd.DataFrame(neighborhood_data) # store as a dataframe\n",
        "\n",
        "# Implementation of haversine function to find the distance between two coordinates (latitude and longitude)\n",
        "def haversine(lat1, lon1, lat2, lon2):\n",
        "    R = 6371  # Radius of the Earth in kilometers\n",
        "    dLat = np.radians(lat2 - lat1)\n",
        "    dLon = np.radians(lon2 - lon1)\n",
        "    a = np.sin(dLat/2) * np.sin(dLat/2) + np.cos(np.radians(lat1)) * np.cos(np.radians(lat2)) * np.sin(dLon/2) * np.sin(dLon/2)\n",
        "    c = 2 * np.arctan2(np.sqrt(a), np.sqrt(1-a))\n",
        "    distance = R * c  # Distance in kilometers\n",
        "    return distance\n",
        "\n",
        "# function find_neighborhood, takes latitude and longitude values of apartment in dataframe\n",
        "# and calculates the distances for each neighborhood, returning the name of the neighborhood\n",
        "# that the apartment has the minimum distance to\n",
        "def find_neighborhood(lat, lon):\n",
        "    distances = neighborhoods.apply(lambda row: haversine(lat, lon, row['latitude'], row['longitude']), axis=1)\n",
        "    return neighborhoods.loc[distances.idxmin(), 'name']\n",
        "\n",
        "# apply function to dataframe to get neighborhood values, store in new column 'neighborhood'\n",
        "cleaned_df['neighborhood'] = cleaned_df.apply(lambda row: find_neighborhood(row['latitude'], row['longitude']), axis=1)\n",
        "\n",
        "# Add another instance of feature engineering: 'total rooms'.\n",
        "# Default is 1, which is aggregated with the number of bedrooms and bathrooms\n",
        "cleaned_df['total rooms'] = (1 + cleaned_df['beds'] + cleaned_df['baths'])\n",
        "\n",
        "# Add one last feature engineering: 'grade'\n",
        "# This is a rough overall 'grade' of the apartments avaliable. This is determined by the ratio of 'total rooms' vs 'price'\n",
        "# The scale is 1-10 and normalized. This is to help detemine the best price for your space\n",
        "cleaned_df['room price ratio'] = cleaned_df['total rooms'] / cleaned_df['price']\n",
        "# Usage of the MinMax scaler because of the desire to make the values on a 1-10 scale\n",
        "scaler = skp.MinMaxScaler(feature_range=(1, 10))\n",
        "cleaned_df['grade'] = scaler.fit_transform(cleaned_df[['room price ratio']])\n",
        "cleaned_df.drop('room price ratio', axis=1, inplace=True)\n",
        "\n",
        "# now that we have implemented feature engineering, we can remove rows that have outliers in columns 'price'\n",
        "processed_df = cleaned_df[cleaned_df['price'].apply(lambda x: np.abs(x - (cleaned_df['price']).mean()) / cleaned_df['price'].std() < 3)]\n"
      ],
      "metadata": {
        "id": "jrj_dVLHLZxR"
      },
      "execution_count": null,
      "outputs": []
    },
    {
      "cell_type": "code",
      "source": [
        "print(\"Shape: \", processed_df.shape) # print shape to better understand how many rows\n",
        "\n",
        "processed_df.head(5)"
      ],
      "metadata": {
        "colab": {
          "base_uri": "https://localhost:8080/",
          "height": 224
        },
        "id": "Ix--TAeWPiPA",
        "outputId": "667131a1-a774-49dc-b649-c01576d49faa"
      },
      "execution_count": null,
      "outputs": [
        {
          "output_type": "stream",
          "name": "stdout",
          "text": [
            "Shape:  (5398, 9)\n"
          ]
        },
        {
          "output_type": "execute_result",
          "data": {
            "text/plain": [
              "                     address  beds  baths   price   latitude  longitude  \\\n",
              "0  776 6th Ave, New York, NY   1.0    1.0  5063.0  40.744976 -73.991040   \n",
              "1  776 6th Ave, New York, NY   2.0    1.0  8978.0  40.744976 -73.991040   \n",
              "2  776 6th Ave, New York, NY   2.0    1.0  8978.0  40.744976 -73.991040   \n",
              "3  11 E 1st St, New York, NY   1.0    1.0  6498.0  40.724564 -73.991486   \n",
              "4  11 E 1st St, New York, NY   2.0    1.0  5620.0  40.724564 -73.991486   \n",
              "\n",
              "        neighborhood  total rooms     grade  \n",
              "0  Flatiron District          3.0  3.035368  \n",
              "1  Flatiron District          4.0  2.483882  \n",
              "2  Flatiron District          4.0  2.483882  \n",
              "3       East Village          3.0  2.544459  \n",
              "4       East Village          4.0  3.482595  "
            ],
            "text/html": [
              "\n",
              "  <div id=\"df-e6e257ce-7b11-4f66-acc6-a6975a5b75cf\" class=\"colab-df-container\">\n",
              "    <div>\n",
              "<style scoped>\n",
              "    .dataframe tbody tr th:only-of-type {\n",
              "        vertical-align: middle;\n",
              "    }\n",
              "\n",
              "    .dataframe tbody tr th {\n",
              "        vertical-align: top;\n",
              "    }\n",
              "\n",
              "    .dataframe thead th {\n",
              "        text-align: right;\n",
              "    }\n",
              "</style>\n",
              "<table border=\"1\" class=\"dataframe\">\n",
              "  <thead>\n",
              "    <tr style=\"text-align: right;\">\n",
              "      <th></th>\n",
              "      <th>address</th>\n",
              "      <th>beds</th>\n",
              "      <th>baths</th>\n",
              "      <th>price</th>\n",
              "      <th>latitude</th>\n",
              "      <th>longitude</th>\n",
              "      <th>neighborhood</th>\n",
              "      <th>total rooms</th>\n",
              "      <th>grade</th>\n",
              "    </tr>\n",
              "  </thead>\n",
              "  <tbody>\n",
              "    <tr>\n",
              "      <th>0</th>\n",
              "      <td>776 6th Ave, New York, NY</td>\n",
              "      <td>1.0</td>\n",
              "      <td>1.0</td>\n",
              "      <td>5063.0</td>\n",
              "      <td>40.744976</td>\n",
              "      <td>-73.991040</td>\n",
              "      <td>Flatiron District</td>\n",
              "      <td>3.0</td>\n",
              "      <td>3.035368</td>\n",
              "    </tr>\n",
              "    <tr>\n",
              "      <th>1</th>\n",
              "      <td>776 6th Ave, New York, NY</td>\n",
              "      <td>2.0</td>\n",
              "      <td>1.0</td>\n",
              "      <td>8978.0</td>\n",
              "      <td>40.744976</td>\n",
              "      <td>-73.991040</td>\n",
              "      <td>Flatiron District</td>\n",
              "      <td>4.0</td>\n",
              "      <td>2.483882</td>\n",
              "    </tr>\n",
              "    <tr>\n",
              "      <th>2</th>\n",
              "      <td>776 6th Ave, New York, NY</td>\n",
              "      <td>2.0</td>\n",
              "      <td>1.0</td>\n",
              "      <td>8978.0</td>\n",
              "      <td>40.744976</td>\n",
              "      <td>-73.991040</td>\n",
              "      <td>Flatiron District</td>\n",
              "      <td>4.0</td>\n",
              "      <td>2.483882</td>\n",
              "    </tr>\n",
              "    <tr>\n",
              "      <th>3</th>\n",
              "      <td>11 E 1st St, New York, NY</td>\n",
              "      <td>1.0</td>\n",
              "      <td>1.0</td>\n",
              "      <td>6498.0</td>\n",
              "      <td>40.724564</td>\n",
              "      <td>-73.991486</td>\n",
              "      <td>East Village</td>\n",
              "      <td>3.0</td>\n",
              "      <td>2.544459</td>\n",
              "    </tr>\n",
              "    <tr>\n",
              "      <th>4</th>\n",
              "      <td>11 E 1st St, New York, NY</td>\n",
              "      <td>2.0</td>\n",
              "      <td>1.0</td>\n",
              "      <td>5620.0</td>\n",
              "      <td>40.724564</td>\n",
              "      <td>-73.991486</td>\n",
              "      <td>East Village</td>\n",
              "      <td>4.0</td>\n",
              "      <td>3.482595</td>\n",
              "    </tr>\n",
              "  </tbody>\n",
              "</table>\n",
              "</div>\n",
              "    <div class=\"colab-df-buttons\">\n",
              "\n",
              "  <div class=\"colab-df-container\">\n",
              "    <button class=\"colab-df-convert\" onclick=\"convertToInteractive('df-e6e257ce-7b11-4f66-acc6-a6975a5b75cf')\"\n",
              "            title=\"Convert this dataframe to an interactive table.\"\n",
              "            style=\"display:none;\">\n",
              "\n",
              "  <svg xmlns=\"http://www.w3.org/2000/svg\" height=\"24px\" viewBox=\"0 -960 960 960\">\n",
              "    <path d=\"M120-120v-720h720v720H120Zm60-500h600v-160H180v160Zm220 220h160v-160H400v160Zm0 220h160v-160H400v160ZM180-400h160v-160H180v160Zm440 0h160v-160H620v160ZM180-180h160v-160H180v160Zm440 0h160v-160H620v160Z\"/>\n",
              "  </svg>\n",
              "    </button>\n",
              "\n",
              "  <style>\n",
              "    .colab-df-container {\n",
              "      display:flex;\n",
              "      gap: 12px;\n",
              "    }\n",
              "\n",
              "    .colab-df-convert {\n",
              "      background-color: #E8F0FE;\n",
              "      border: none;\n",
              "      border-radius: 50%;\n",
              "      cursor: pointer;\n",
              "      display: none;\n",
              "      fill: #1967D2;\n",
              "      height: 32px;\n",
              "      padding: 0 0 0 0;\n",
              "      width: 32px;\n",
              "    }\n",
              "\n",
              "    .colab-df-convert:hover {\n",
              "      background-color: #E2EBFA;\n",
              "      box-shadow: 0px 1px 2px rgba(60, 64, 67, 0.3), 0px 1px 3px 1px rgba(60, 64, 67, 0.15);\n",
              "      fill: #174EA6;\n",
              "    }\n",
              "\n",
              "    .colab-df-buttons div {\n",
              "      margin-bottom: 4px;\n",
              "    }\n",
              "\n",
              "    [theme=dark] .colab-df-convert {\n",
              "      background-color: #3B4455;\n",
              "      fill: #D2E3FC;\n",
              "    }\n",
              "\n",
              "    [theme=dark] .colab-df-convert:hover {\n",
              "      background-color: #434B5C;\n",
              "      box-shadow: 0px 1px 3px 1px rgba(0, 0, 0, 0.15);\n",
              "      filter: drop-shadow(0px 1px 2px rgba(0, 0, 0, 0.3));\n",
              "      fill: #FFFFFF;\n",
              "    }\n",
              "  </style>\n",
              "\n",
              "    <script>\n",
              "      const buttonEl =\n",
              "        document.querySelector('#df-e6e257ce-7b11-4f66-acc6-a6975a5b75cf button.colab-df-convert');\n",
              "      buttonEl.style.display =\n",
              "        google.colab.kernel.accessAllowed ? 'block' : 'none';\n",
              "\n",
              "      async function convertToInteractive(key) {\n",
              "        const element = document.querySelector('#df-e6e257ce-7b11-4f66-acc6-a6975a5b75cf');\n",
              "        const dataTable =\n",
              "          await google.colab.kernel.invokeFunction('convertToInteractive',\n",
              "                                                    [key], {});\n",
              "        if (!dataTable) return;\n",
              "\n",
              "        const docLinkHtml = 'Like what you see? Visit the ' +\n",
              "          '<a target=\"_blank\" href=https://colab.research.google.com/notebooks/data_table.ipynb>data table notebook</a>'\n",
              "          + ' to learn more about interactive tables.';\n",
              "        element.innerHTML = '';\n",
              "        dataTable['output_type'] = 'display_data';\n",
              "        await google.colab.output.renderOutput(dataTable, element);\n",
              "        const docLink = document.createElement('div');\n",
              "        docLink.innerHTML = docLinkHtml;\n",
              "        element.appendChild(docLink);\n",
              "      }\n",
              "    </script>\n",
              "  </div>\n",
              "\n",
              "\n",
              "<div id=\"df-a5b06952-d6f2-4e64-9209-2cdb47093aea\">\n",
              "  <button class=\"colab-df-quickchart\" onclick=\"quickchart('df-a5b06952-d6f2-4e64-9209-2cdb47093aea')\"\n",
              "            title=\"Suggest charts\"\n",
              "            style=\"display:none;\">\n",
              "\n",
              "<svg xmlns=\"http://www.w3.org/2000/svg\" height=\"24px\"viewBox=\"0 0 24 24\"\n",
              "     width=\"24px\">\n",
              "    <g>\n",
              "        <path d=\"M19 3H5c-1.1 0-2 .9-2 2v14c0 1.1.9 2 2 2h14c1.1 0 2-.9 2-2V5c0-1.1-.9-2-2-2zM9 17H7v-7h2v7zm4 0h-2V7h2v10zm4 0h-2v-4h2v4z\"/>\n",
              "    </g>\n",
              "</svg>\n",
              "  </button>\n",
              "\n",
              "<style>\n",
              "  .colab-df-quickchart {\n",
              "      --bg-color: #E8F0FE;\n",
              "      --fill-color: #1967D2;\n",
              "      --hover-bg-color: #E2EBFA;\n",
              "      --hover-fill-color: #174EA6;\n",
              "      --disabled-fill-color: #AAA;\n",
              "      --disabled-bg-color: #DDD;\n",
              "  }\n",
              "\n",
              "  [theme=dark] .colab-df-quickchart {\n",
              "      --bg-color: #3B4455;\n",
              "      --fill-color: #D2E3FC;\n",
              "      --hover-bg-color: #434B5C;\n",
              "      --hover-fill-color: #FFFFFF;\n",
              "      --disabled-bg-color: #3B4455;\n",
              "      --disabled-fill-color: #666;\n",
              "  }\n",
              "\n",
              "  .colab-df-quickchart {\n",
              "    background-color: var(--bg-color);\n",
              "    border: none;\n",
              "    border-radius: 50%;\n",
              "    cursor: pointer;\n",
              "    display: none;\n",
              "    fill: var(--fill-color);\n",
              "    height: 32px;\n",
              "    padding: 0;\n",
              "    width: 32px;\n",
              "  }\n",
              "\n",
              "  .colab-df-quickchart:hover {\n",
              "    background-color: var(--hover-bg-color);\n",
              "    box-shadow: 0 1px 2px rgba(60, 64, 67, 0.3), 0 1px 3px 1px rgba(60, 64, 67, 0.15);\n",
              "    fill: var(--button-hover-fill-color);\n",
              "  }\n",
              "\n",
              "  .colab-df-quickchart-complete:disabled,\n",
              "  .colab-df-quickchart-complete:disabled:hover {\n",
              "    background-color: var(--disabled-bg-color);\n",
              "    fill: var(--disabled-fill-color);\n",
              "    box-shadow: none;\n",
              "  }\n",
              "\n",
              "  .colab-df-spinner {\n",
              "    border: 2px solid var(--fill-color);\n",
              "    border-color: transparent;\n",
              "    border-bottom-color: var(--fill-color);\n",
              "    animation:\n",
              "      spin 1s steps(1) infinite;\n",
              "  }\n",
              "\n",
              "  @keyframes spin {\n",
              "    0% {\n",
              "      border-color: transparent;\n",
              "      border-bottom-color: var(--fill-color);\n",
              "      border-left-color: var(--fill-color);\n",
              "    }\n",
              "    20% {\n",
              "      border-color: transparent;\n",
              "      border-left-color: var(--fill-color);\n",
              "      border-top-color: var(--fill-color);\n",
              "    }\n",
              "    30% {\n",
              "      border-color: transparent;\n",
              "      border-left-color: var(--fill-color);\n",
              "      border-top-color: var(--fill-color);\n",
              "      border-right-color: var(--fill-color);\n",
              "    }\n",
              "    40% {\n",
              "      border-color: transparent;\n",
              "      border-right-color: var(--fill-color);\n",
              "      border-top-color: var(--fill-color);\n",
              "    }\n",
              "    60% {\n",
              "      border-color: transparent;\n",
              "      border-right-color: var(--fill-color);\n",
              "    }\n",
              "    80% {\n",
              "      border-color: transparent;\n",
              "      border-right-color: var(--fill-color);\n",
              "      border-bottom-color: var(--fill-color);\n",
              "    }\n",
              "    90% {\n",
              "      border-color: transparent;\n",
              "      border-bottom-color: var(--fill-color);\n",
              "    }\n",
              "  }\n",
              "</style>\n",
              "\n",
              "  <script>\n",
              "    async function quickchart(key) {\n",
              "      const quickchartButtonEl =\n",
              "        document.querySelector('#' + key + ' button');\n",
              "      quickchartButtonEl.disabled = true;  // To prevent multiple clicks.\n",
              "      quickchartButtonEl.classList.add('colab-df-spinner');\n",
              "      try {\n",
              "        const charts = await google.colab.kernel.invokeFunction(\n",
              "            'suggestCharts', [key], {});\n",
              "      } catch (error) {\n",
              "        console.error('Error during call to suggestCharts:', error);\n",
              "      }\n",
              "      quickchartButtonEl.classList.remove('colab-df-spinner');\n",
              "      quickchartButtonEl.classList.add('colab-df-quickchart-complete');\n",
              "    }\n",
              "    (() => {\n",
              "      let quickchartButtonEl =\n",
              "        document.querySelector('#df-a5b06952-d6f2-4e64-9209-2cdb47093aea button');\n",
              "      quickchartButtonEl.style.display =\n",
              "        google.colab.kernel.accessAllowed ? 'block' : 'none';\n",
              "    })();\n",
              "  </script>\n",
              "</div>\n",
              "    </div>\n",
              "  </div>\n"
            ],
            "application/vnd.google.colaboratory.intrinsic+json": {
              "type": "dataframe",
              "variable_name": "processed_df",
              "summary": "{\n  \"name\": \"processed_df\",\n  \"rows\": 5398,\n  \"fields\": [\n    {\n      \"column\": \"address\",\n      \"properties\": {\n        \"dtype\": \"string\",\n        \"num_unique_values\": 3398,\n        \"samples\": [\n          \"277 Avenue C APT 11F, New York, NY 10009\",\n          \"330 W 4th St #2, New York, NY 10014\",\n          \"33 E 22nd St APT 4C, New York, NY 10010\"\n        ],\n        \"semantic_type\": \"\",\n        \"description\": \"\"\n      }\n    },\n    {\n      \"column\": \"beds\",\n      \"properties\": {\n        \"dtype\": \"number\",\n        \"std\": 1.145864504169195,\n        \"min\": 0.0,\n        \"max\": 6.0,\n        \"num_unique_values\": 7,\n        \"samples\": [\n          1.0,\n          2.0,\n          5.0\n        ],\n        \"semantic_type\": \"\",\n        \"description\": \"\"\n      }\n    },\n    {\n      \"column\": \"baths\",\n      \"properties\": {\n        \"dtype\": \"number\",\n        \"std\": 0.739269209252313,\n        \"min\": 1.0,\n        \"max\": 6.0,\n        \"num_unique_values\": 11,\n        \"samples\": [\n          4.5,\n          1.0,\n          5.5\n        ],\n        \"semantic_type\": \"\",\n        \"description\": \"\"\n      }\n    },\n    {\n      \"column\": \"price\",\n      \"properties\": {\n        \"dtype\": \"number\",\n        \"std\": 4952.37753525217,\n        \"min\": 1600.0,\n        \"max\": 32000.0,\n        \"num_unique_values\": 890,\n        \"samples\": [\n          5776.0,\n          7934.0,\n          7670.0\n        ],\n        \"semantic_type\": \"\",\n        \"description\": \"\"\n      }\n    },\n    {\n      \"column\": \"latitude\",\n      \"properties\": {\n        \"dtype\": \"number\",\n        \"std\": 0.034483602912851415,\n        \"min\": 40.704285,\n        \"max\": 40.872044,\n        \"num_unique_values\": 3210,\n        \"samples\": [\n          40.751087,\n          40.727074,\n          40.72042\n        ],\n        \"semantic_type\": \"\",\n        \"description\": \"\"\n      }\n    },\n    {\n      \"column\": \"longitude\",\n      \"properties\": {\n        \"dtype\": \"number\",\n        \"std\": 0.020918011085697418,\n        \"min\": -74.01816,\n        \"max\": -73.91508,\n        \"num_unique_values\": 2889,\n        \"samples\": [\n          -73.93658,\n          -73.94319,\n          -73.988174\n        ],\n        \"semantic_type\": \"\",\n        \"description\": \"\"\n      }\n    },\n    {\n      \"column\": \"neighborhood\",\n      \"properties\": {\n        \"dtype\": \"category\",\n        \"num_unique_values\": 29,\n        \"samples\": [\n          \"Lower East Side\",\n          \"East Harlem\",\n          \"Carnegie Hill\"\n        ],\n        \"semantic_type\": \"\",\n        \"description\": \"\"\n      }\n    },\n    {\n      \"column\": \"total rooms\",\n      \"properties\": {\n        \"dtype\": \"number\",\n        \"std\": 1.7716906725232615,\n        \"min\": 2.0,\n        \"max\": 13.0,\n        \"num_unique_values\": 22,\n        \"samples\": [\n          3.0,\n          5.5,\n          9.5\n        ],\n        \"semantic_type\": \"\",\n        \"description\": \"\"\n      }\n    },\n    {\n      \"column\": \"grade\",\n      \"properties\": {\n        \"dtype\": \"number\",\n        \"std\": 1.3337534625825214,\n        \"min\": 1.3581068017478057,\n        \"max\": 10.0,\n        \"num_unique_values\": 1348,\n        \"samples\": [\n          3.8959230406180994,\n          5.61394976794422,\n          5.934051736026932\n        ],\n        \"semantic_type\": \"\",\n        \"description\": \"\"\n      }\n    }\n  ]\n}"
            }
          },
          "metadata": {},
          "execution_count": 11
        }
      ]
    },
    {
      "cell_type": "markdown",
      "source": [
        "After pre-processing, we have come up with the dataframe we plan to use in our analysis and model building. The DataFrame has 5398 rows and 9 columns. As a side note, we are omitting from normalizing the columns just yet, as interpreting our analysis will be more tangible with the actual prices. We will normalize the data for regression and clustering later when we analyze isochrone intersection apartment data."
      ],
      "metadata": {
        "id": "onIBc3M12aXW"
      }
    },
    {
      "cell_type": "markdown",
      "source": [
        "# General Dataset Exploration and Analysis"
      ],
      "metadata": {
        "id": "F6xcJTCsShKX"
      }
    },
    {
      "cell_type": "markdown",
      "source": [
        "Before going into the exploring and analyzing of apartments within isochrone intersections, we plan on comprehensively exploring the whole dataset. For each of the numerical categories, we provided descriptive statistics and plotted a histogram depicting the distribution of values in each column."
      ],
      "metadata": {
        "id": "PvddiK9aW2Oy"
      }
    },
    {
      "cell_type": "code",
      "source": [
        "import seaborn as sns\n",
        "\n",
        "# for column 'beds' plot a histogram using seaborn\n",
        "beds_distribution = sns.displot(data = processed_df, x = 'beds').set(title = \"Distribution of 'beds' Data\")\n",
        "# print out descriptive statistics\n",
        "print(\"Beds Descriptive Statistics\")\n",
        "print(f\"   Mean:   {round(processed_df['beds'].mean(), 2)}\")\n",
        "print(f\"   Median: {round(processed_df['beds'].median(), 2)}\")\n",
        "print(f\"   Mode:   {round(processed_df['beds'].mode()[0], 0)}\")\n",
        "print(f\"   St Dev: {round(processed_df['beds'].std(), 2)}\")\n",
        "print()\n"
      ],
      "metadata": {
        "colab": {
          "base_uri": "https://localhost:8080/",
          "height": 633
        },
        "id": "F3px4MBVY7SN",
        "outputId": "1afee956-1585-4411-88af-f05c4b760896"
      },
      "execution_count": null,
      "outputs": [
        {
          "output_type": "stream",
          "name": "stdout",
          "text": [
            "Beds Descriptive Statistics\n",
            "   Mean:   2.04\n",
            "   Median: 2.0\n",
            "   Mode:   2.0\n",
            "   St Dev: 1.15\n",
            "\n"
          ]
        },
        {
          "output_type": "display_data",
          "data": {
            "text/plain": [
              "<Figure size 500x500 with 1 Axes>"
            ],
            "image/png": "[encoded data removed]"
          },
          "metadata": {}
        }
      ]
    },
    {
      "cell_type": "code",
      "source": [
        "# to further confirm the distribution of beds, we are using stats.describe to get variance, skewness, and kurtosis\n",
        "stats.describe(processed_df.beds)"
      ],
      "metadata": {
        "colab": {
          "base_uri": "https://localhost:8080/"
        },
        "id": "X7q-I-fqXynR",
        "outputId": "b6217dbd-08b1-4646-9383-51499ac229d7"
      },
      "execution_count": null,
      "outputs": [
        {
          "output_type": "execute_result",
          "data": {
            "text/plain": [
              "DescribeResult(nobs=5398, minmax=(0.0, 6.0), mean=2.037791774731382, variance=1.3130054619149154, skewness=0.3687933300586163, kurtosis=-0.0390447557102247)"
            ]
          },
          "metadata": {},
          "execution_count": 13
        }
      ]
    },
    {
      "cell_type": "markdown",
      "source": [
        "Based on the descriptive statistics and histogram visualizing the distribution of 'beds', the data appears to be normal at an average of 2.04 beds for an apartment. While the data is relatively normal, there is a slight skew to the right as the number of bedrooms in an apartment increases, with the mean being greater than the median. To check again, we can use stats.describe to better understand the distribution of data.\n",
        "\n",
        "Using stats.describe, we get low skewness values, suggesting that the column `beds` has a useable normal distribution.\n",
        "\n",
        "*For clarification, we should also interpret '0 beds' to mean 'studio'.*"
      ],
      "metadata": {
        "id": "QsCgd5MJh1Zq"
      }
    },
    {
      "cell_type": "code",
      "source": [
        "# for column 'baths'\n",
        "baths_distribution = sns.displot(data = processed_df, x = 'baths').set(title = \"Distribution of 'baths' Data\")\n",
        "print(\"Baths Descriptive Statistics\")\n",
        "print(f\"   Mean:   {round(processed_df['baths'].mean(), 2)}\")\n",
        "print(f\"   Median: {round(processed_df['baths'].median(), 2)}\")\n",
        "print(f\"   Mode:   {round(processed_df['baths'].mode()[0], 1)}\")\n",
        "print(f\"   St Dev: {round(processed_df['baths'].std(), 2)}\")\n",
        "print()"
      ],
      "metadata": {
        "colab": {
          "base_uri": "https://localhost:8080/",
          "height": 633
        },
        "id": "dhSn8PHOc8vK",
        "outputId": "cce49559-871b-4f90-85b0-4d04ca451cee"
      },
      "execution_count": null,
      "outputs": [
        {
          "output_type": "stream",
          "name": "stdout",
          "text": [
            "Baths Descriptive Statistics\n",
            "   Mean:   1.46\n",
            "   Median: 1.0\n",
            "   Mode:   1.0\n",
            "   St Dev: 0.74\n",
            "\n"
          ]
        },
        {
          "output_type": "display_data",
          "data": {
            "text/plain": [
              "<Figure size 500x500 with 1 Axes>"
            ],
            "image/png": "[encoded data removed]"
          },
          "metadata": {}
        }
      ]
    },
    {
      "cell_type": "markdown",
      "source": [
        "Upon looking at the descriptive statistics and histogram depicting distribution of 'baths' data, we can see that the data is heavily skewed to the right. Not only is the mean greater than the median (1.46 > 1), but as the number of bathrooms increase, the count drastically drops. This suggests that the majority of apartments only have one bathroom, less have two, even less have three, and so on. The histogram also highlights the presence of \"half bathrooms\", bathrooms that do not house full amenities like a shower."
      ],
      "metadata": {
        "id": "TP-rRlqaiooa"
      }
    },
    {
      "cell_type": "code",
      "source": [
        "# for column 'price', print a histogram to visualize the distribution of data\n",
        "price_distribution = sns.displot(data = processed_df, x = 'price').set(title = \"Distribution of 'price' Data\")\n",
        "# print descriptive statistics\n",
        "print(\"Price Descriptive Statistics\")\n",
        "print(f\"   Mean:   ${round(processed_df['price'].mean(), 2)}\")\n",
        "print(f\"   Median: ${round(processed_df['price'].median(), 2)}\")\n",
        "print(f\"   Mode:   ${round(processed_df['price'].mode()[0], 1)}\")\n",
        "print(f\"   St Dev: ${round(processed_df['price'].std(), 2)}\")\n",
        "print()"
      ],
      "metadata": {
        "colab": {
          "base_uri": "https://localhost:8080/",
          "height": 633
        },
        "id": "mGGwV6SVdJuT",
        "outputId": "e6711942-432f-47bc-e3d7-bfc4cae5e8bb"
      },
      "execution_count": null,
      "outputs": [
        {
          "output_type": "stream",
          "name": "stdout",
          "text": [
            "Price Descriptive Statistics\n",
            "   Mean:   $6752.83\n",
            "   Median: $5000.0\n",
            "   Mode:   $4500.0\n",
            "   St Dev: $4952.38\n",
            "\n"
          ]
        },
        {
          "output_type": "display_data",
          "data": {
            "text/plain": [
              "<Figure size 500x500 with 1 Axes>"
            ],
            "image/png": "[encoded data removed]"
          },
          "metadata": {}
        }
      ]
    },
    {
      "cell_type": "code",
      "source": [
        "# to further confirm the distribution of price, we are using stats.describe to get variance, skewness, and kurtosis\n",
        "stats.describe(processed_df.price)"
      ],
      "metadata": {
        "colab": {
          "base_uri": "https://localhost:8080/"
        },
        "id": "nO2uHq83VuF2",
        "outputId": "eee33c4d-52e6-4112-feaf-bb33feedc67d"
      },
      "execution_count": null,
      "outputs": [
        {
          "output_type": "execute_result",
          "data": {
            "text/plain": [
              "DescribeResult(nobs=5398, minmax=(1600.0, 32000.0), mean=6752.831789551686, variance=24526043.251670357, skewness=2.240537968962258, kurtosis=5.692106147734787)"
            ]
          },
          "metadata": {},
          "execution_count": 16
        }
      ]
    },
    {
      "cell_type": "markdown",
      "source": [
        "Like the `baths` column, `price` is also heavily skewed to the right. The mean is greater than the median price, and the histogram's shape suggests the same distribution. We find an existing pattern that as the price goes up, the number of existing apartments decreases.\n",
        "\n",
        "Running stats.describe on the `price` column, we also find that there is very high variance, a high positive skewness, and high kurtosis values, confirming that the distribution is heavily right-tailed and not normal.\n",
        "\n",
        "We can interpret this distribution to mean that most apartments hover around a median of $5000, with the count of apartments decreasing as they increase in price."
      ],
      "metadata": {
        "id": "ONqOv7ECkFa7"
      }
    },
    {
      "cell_type": "markdown",
      "source": [
        "We also looked at `neighborhood` data, grouping by the column. We aggregated counts and observed boxplots of price for each of these neighborhoods to better understand the data."
      ],
      "metadata": {
        "id": "Q-ACYmCnf20R"
      }
    },
    {
      "cell_type": "code",
      "source": [
        "# use value_counts to aggregate the number of apartments for each neighborhood\n",
        "top_neighborhoods = processed_df['neighborhood'].value_counts()\n",
        "\n",
        "# index to get top 5 neighborhoods, split into index and values\n",
        "top5_neighborhoods = top_neighborhoods[0:5]\n",
        "\n",
        "top5_neighborhood = top5_neighborhoods.index\n",
        "top5_count = top5_neighborhoods.values\n",
        "\n",
        "# plot findings of top 5 neighborhoods by count\n",
        "plt.figure(figsize=(8,4))\n",
        "plt.bar(top5_neighborhood, top5_count)\n",
        "plt.title('5 Most Common Neighborhoods in NYC Apartment Data')\n",
        "plt.xlabel('Neighborhood')\n",
        "plt.ylabel('Number of Apartments')\n",
        "plt.show()\n",
        "\n",
        "print(\"\")\n",
        "temp_df = processed_df[processed_df['neighborhood'].apply(lambda x: x in top5_neighborhood)]\n",
        "\n",
        "# plot boxplot to visualize distribution of price between each neighborhood\n",
        "top5_boxplots = temp_df.loc[:,['neighborhood','price']].boxplot(by='neighborhood', column='price', figsize = (8,5))\n",
        "top5_boxplots.plot()\n",
        "plt.title(\"Boxplots of Rental Property Prices in 5 Most Common Neighborhoods\")\n",
        "plt.xlabel(\"Neighborhood\")\n",
        "plt.ylabel(\"Price ($)\")\n",
        "plt.suptitle(\"\")\n",
        "plt.show()"
      ],
      "metadata": {
        "colab": {
          "base_uri": "https://localhost:8080/",
          "height": 887
        },
        "id": "_KkhY4MWQdVc",
        "outputId": "baa3a173-cbb4-47bb-820a-ff85337b98e8"
      },
      "execution_count": null,
      "outputs": [
        {
          "output_type": "display_data",
          "data": {
            "text/plain": [
              "<Figure size 800x400 with 1 Axes>"
            ],
            "image/png": "[encoded data removed]"
          },
          "metadata": {}
        },
        {
          "output_type": "stream",
          "name": "stdout",
          "text": [
            "\n"
          ]
        },
        {
          "output_type": "display_data",
          "data": {
            "text/plain": [
              "<Figure size 800x500 with 1 Axes>"
            ],
            "image/png": "[encoded data removed]"
          },
          "metadata": {}
        }
      ]
    },
    {
      "cell_type": "markdown",
      "source": [
        "Based on the bar chart, the top 5 most common neighborhoods in the NYC Rental Property dataset are: Carnegie Hall, Clinton, East Village, Murray Hill, and Upper East Side.\n",
        "\n",
        "\n",
        "Observing the boxplots that visualize the distribution and summary statistics of each of these neighborhoods, we can also make several inferences. For one, Carnegie Hall has a wide range of prices for its apartments, with a large amount of outliers at the top, indicating luxury housing. This wide range can indicate that there is wide variability in terms of housing, potentially based on if it is standard or luxury housing. In another instance, we see that Clinton has a very uniform interquartile range, suggesting that the rent is fairly uniform across most apartments, in spite of some outliers. In a neighborhood like the Upper East side, the narrow bottom 50% of data, contrasted with the wide variability and outliers in the top 50% of data, suggests that standard, lower-priced apartments are fairly narrowly distributed in price, while higher-priced luxury apartments can vary signficiantly more."
      ],
      "metadata": {
        "id": "mI4jW2yW5HNm"
      }
    },
    {
      "cell_type": "code",
      "source": [
        "# we can also take a look at the five neighborhoods with the least amount of listed apartments\n",
        "# start at '-5' to get 5 least occurring neighborhoods, sort_values to reverse list\n",
        "bottom5_neighborhoods = top_neighborhoods[-5::].sort_values()\n",
        "bottom5_neighborhoods\n",
        "\n",
        "bottom5_neighborhood = bottom5_neighborhoods.index\n",
        "bottom5_count = bottom5_neighborhoods.values\n",
        "\n",
        "# plot figure\n",
        "plt.figure(figsize=(8,4))\n",
        "plt.bar(bottom5_neighborhood, bottom5_count)\n",
        "plt.title('5 Least Common Neighborhoods in NYC Apartment Data')\n",
        "plt.xlabel('Neighborhood')\n",
        "plt.ylabel('Number of Apartments')\n",
        "plt.show()"
      ],
      "metadata": {
        "colab": {
          "base_uri": "https://localhost:8080/",
          "height": 410
        },
        "id": "uOr_vlvkREl4",
        "outputId": "53ba0cf8-e895-46f9-b075-042c5e012730"
      },
      "execution_count": null,
      "outputs": [
        {
          "output_type": "display_data",
          "data": {
            "text/plain": [
              "<Figure size 800x400 with 1 Axes>"
            ],
            "image/png": "[encoded data removed]"
          },
          "metadata": {}
        }
      ]
    },
    {
      "cell_type": "code",
      "source": [
        "print(\"Corr between # of beds and price: \", stats.pearsonr(processed_df['total rooms'], processed_df['latitude']))\n",
        "print(\"Corr between # of baths and price: \", stats.pearsonr(processed_df['baths'], processed_df['price']))\n",
        "print(\"Corr between # of total rooms and price: \", stats.pearsonr(processed_df['total rooms'], processed_df['price']))"
      ],
      "metadata": {
        "id": "Cdz0ZZQgfnOv",
        "colab": {
          "base_uri": "https://localhost:8080/"
        },
        "outputId": "a0eed6f5-3506-40b5-9cba-5e11e8e4230f"
      },
      "execution_count": null,
      "outputs": [
        {
          "output_type": "stream",
          "name": "stdout",
          "text": [
            "Corr between # of beds and price:  PearsonRResult(statistic=-0.02350657776258393, pvalue=0.08418699985720508)\n",
            "Corr between # of baths and price:  PearsonRResult(statistic=0.5905038428225114, pvalue=0.0)\n",
            "Corr between # of total rooms and price:  PearsonRResult(statistic=0.5877040482350793, pvalue=0.0)\n"
          ]
        }
      ]
    },
    {
      "cell_type": "markdown",
      "source": [
        "Based on the correlation ran between the three numerical variables `beds`, `baths`, `total rooms`, and `price`, we notice that all three instances of Pearson correlations produce a statistic value of 0.53, 0.59, and 0.59. These values indicate a moderately strong positive direct relationship for all three pairs of variables. The p-value being listed as 0.0 for each of these correlations corroborates this relationship, as the value being less than 0.05 means we can reject the null hypothesis that the correlation coefficient between these variables is 0. We expected these values, as it makes sense for the price of an apartment to go up with the increase of area and utility in the form of bedrooms and bathrooms."
      ],
      "metadata": {
        "id": "sTZ3o5jg42bL"
      }
    },
    {
      "cell_type": "markdown",
      "source": [
        "We can run significance tests to explore further questions related to our dataset. For instance, we would first like to run a 2-sample t-test to identify if there is a statistically significant difference between two distributions of bed counts between the neighborhoods 'East Village' and 'Murray Hill'."
      ],
      "metadata": {
        "id": "5QqTNEu64A-R"
      }
    },
    {
      "cell_type": "code",
      "source": [
        "sample_one = processed_df[processed_df['neighborhood']==\"East Village\"]\n",
        "sample_two = processed_df[processed_df['neighborhood']==\"Murray Hill\"]\n",
        "\n",
        "stats.ttest_ind(sample_one['beds'], sample_two['beds'])"
      ],
      "metadata": {
        "colab": {
          "base_uri": "https://localhost:8080/"
        },
        "id": "IUc1KT-17N8t",
        "outputId": "bb074203-9cfe-4587-c6f8-ba0885a837e1"
      },
      "execution_count": null,
      "outputs": [
        {
          "output_type": "execute_result",
          "data": {
            "text/plain": [
              "TtestResult(statistic=5.589021145989148, pvalue=3.236793151667449e-08, df=723.0)"
            ]
          },
          "metadata": {},
          "execution_count": 20
        }
      ]
    },
    {
      "cell_type": "markdown",
      "source": [
        "We can interpret the results of this two-sample t-test by looking at the p-value. Since the p-value is 3.24*10^-8, which is less than an alpha value of 0.05, we reject the null hypothesis that there is no statistically significant difference in means between the two neighborhoods East Village and Murray Hill.\n",
        "\n",
        "On a side note, while we did want to conduct an ANOVA to compare prices between certain neighborhoods, since price is not normally distributed, we were not able to use the test. That said, non-parametric tests were not in the course notes, so we thus operated under the assumption that non-parametric tests like Kruskal-Wallis, Mann-Whitney U were not allowed."
      ],
      "metadata": {
        "id": "ybbFXXDe8f4U"
      }
    },
    {
      "cell_type": "markdown",
      "source": [
        "# TravelTime API Function Implementation"
      ],
      "metadata": {
        "id": "wIg2ibkdcitO"
      }
    },
    {
      "cell_type": "code",
      "source": [
        "# import necessary libraries for function implementation, and later isochrone/intersection visualization\n",
        "import asyncio\n",
        "from datetime import datetime\n",
        "from traveltimepy import Driving, PublicTransport, Walking, Cycling, Coordinates, TravelTimeSdk\n",
        "import geopandas as gpd\n",
        "from shapely.geometry import Polygon, shape\n",
        "import matplotlib.pyplot as plt"
      ],
      "metadata": {
        "id": "bv3ORmT9crHe"
      },
      "execution_count": null,
      "outputs": []
    },
    {
      "cell_type": "code",
      "source": [
        "# these functions were sourced from the official TravelTime API, comments included to help explain the purpose of each\n",
        "\n",
        "# function geocode_address: takes an address as an input, returns latitude and longitude values based on given query\n",
        "async def geocode_address(address):\n",
        "    results = await sdk.geocoding_async(query=address, limit=1, format_name=True)\n",
        "    if results.features:\n",
        "        point = shape(results.features[0].geometry)\n",
        "        longitude = point.x\n",
        "        latitude = point.y\n",
        "        return Coordinates(lat=latitude, lng=longitude)\n",
        "    else:\n",
        "        print(\"No valid coordinates found.\")\n",
        "        return None\n",
        "\n",
        "# function fetch_isochrones: takes coordinates, user inputted arrival time, travel time, and transportation\n",
        "# returns isochrone\n",
        "async def fetch_isochrones(coordinates, arrival_time, travel_time, transportation):\n",
        "    results = await sdk.time_map_async(\n",
        "        coordinates=coordinates,\n",
        "        arrival_time=arrival_time,\n",
        "        travel_time=travel_time,\n",
        "        transportation=transportation\n",
        "    )\n",
        "    return results\n",
        "\n",
        "# function find_intersection_or_union: takes coordinates and mode (intersection or union) as an input\n",
        "# for the purpose of our project, we will only be using intersection\n",
        "# returns intersection of isochrones\n",
        "async def find_intersection_or_union(coordinates, mode):\n",
        "    arrival_time = datetime.now()\n",
        "    if mode == \"intersection\":\n",
        "        return await sdk.intersection_async(\n",
        "            coordinates=coordinates,\n",
        "            arrival_time=arrival_time,\n",
        "            transportation=Driving()\n",
        "        )\n",
        "    elif mode == \"union\":\n",
        "        return await sdk.union_async(\n",
        "            coordinates=coordinates,\n",
        "            arrival_time=arrival_time,\n",
        "            transportation=Driving()\n",
        "        )\n",
        "\n",
        "# function fetch_distance_map: takes coordinates, arrival time, travel distance, and transportation information into account\n",
        "async def fetch_distance_map(coordinates, arrival_time, travel_distance, transportation):\n",
        "    results = await sdk.distance_map_async(\n",
        "        coordinates=coordinates,\n",
        "        arrival_time=arrival_time,\n",
        "        travel_distance=travel_distance,\n",
        "        transportation=transportation\n",
        "    )\n",
        "    return results"
      ],
      "metadata": {
        "id": "Hk-nLdnPcnaK"
      },
      "execution_count": null,
      "outputs": []
    },
    {
      "cell_type": "markdown",
      "source": [
        "# Isochrone and Intersection Mapping"
      ],
      "metadata": {
        "id": "kqKUl-F0ezxT"
      }
    },
    {
      "cell_type": "markdown",
      "source": [
        "Using the added TravelTime API functions, we can create an ischrone map, a map that portrays the area accessible to a certain location within a certain timeframe, for a number of listed locations. In this section, we will demo a user input in which:\n",
        "*   The user would like to access their locations within 30 minutes by public_transport.\n",
        "*   Their listed locations are:\n",
        "  *   Morgan Stanley NY Office (1585 Broadway, New York, NY 10036)\n",
        "  *   Washington Square Park\n",
        "  *   Columbus Circle\n",
        "\n",
        "*As a side note, the parentheticals for locations refer to how the user inputs the information. Inputting the full address or a common name can better help identify addresses.*\n",
        "\n",
        "The result will display geographic visualizations of the isochrones for each location. Using these isochrones, we can later look at their intersections, and the apartment data within this intersection."
      ],
      "metadata": {
        "id": "o1XaCs8Ie55l"
      }
    },
    {
      "cell_type": "code",
      "source": [
        "async def main():\n",
        "\n",
        "    # declare variables and data fields\n",
        "    sdk = TravelTimeSdk(\"981c6f8d\", \"c5fffce90d3ee3c78d1aa2f07ca93be3\")\n",
        "    global origin_coordinates\n",
        "    global transportation\n",
        "    global travel_time_seconds\n",
        "\n",
        "    # initialize array containing origin coordinates\n",
        "    origin_coordinates = []\n",
        "\n",
        "    # dictionary containing different modes of transportation\n",
        "    transportation_options = {\n",
        "    'walking': Walking,\n",
        "    'cycling': Cycling,\n",
        "    'driving': Driving,\n",
        "    'public_transport': PublicTransport\n",
        "    }\n",
        "\n",
        "    # declare nyc_map, a folium Map of NYC\n",
        "    nyc_map = folium.Map(location=[40.7415696, -74.0022074], zoom_start=13, tiles='CartoDB dark_matter', control_scale=True)\n",
        "\n",
        "    # user input for total preferred travel time. in our instance, we inputted 30\n",
        "    travel_time_minutes = input(\"Enter the total travel time you woud like in minutes: \")\n",
        "    try:\n",
        "        travel_time_seconds = int(travel_time_minutes) * 60 # convert to seconds for use in TravelTime functions\n",
        "    except ValueError: # catch potential error, print error, set travel time to 1200 (20 min)\n",
        "        print(\"Invalid input for travel time. Using a default of 20 minutes.\")\n",
        "        travel_time_seconds = 1200\n",
        "\n",
        "    # next ask user input for mode of transportation\n",
        "    print(\"Choose a method of transportation: walking, cycling, driving, public_transport\")\n",
        "    transport_method = input(\"Enter your choice: \").lower()\n",
        "    # if statement to check for valid transportation method. if invalid, set to public_transport\n",
        "    if transport_method in transportation_options:\n",
        "        transportation = transportation_options[transport_method]()\n",
        "    else:\n",
        "        print(\"Invalid transportation method selected. Defaulting to public transport.\")\n",
        "        transportation = PublicTransport()\n",
        "\n",
        "    # for loop that iterates through a maximum of 5 possible addresses\n",
        "    for i in range(5):\n",
        "        global user_address\n",
        "        user_address = input(f\"Please enter address #{i+1} (up to 5): \")\n",
        "        user_coordinates = await geocode_address(user_address) # use geocode_address to get user_coordinates\n",
        "        # if statement to check that coordinates are valid, in which case add to nyc_map\n",
        "        if user_coordinates:\n",
        "            origin_coordinates.append(Coordinates(lat=user_coordinates.lat, lng=user_coordinates.lng))\n",
        "            nyc_map.location = [user_coordinates.lat, user_coordinates.lng]\n",
        "            popup_content = f'<div style=\"width:200px;\">{user_address}</div>'\n",
        "            folium.Marker(\n",
        "                [user_coordinates.lat, user_coordinates.lng],\n",
        "                popup=folium.Popup(popup_content, max_width=265),\n",
        "                icon=folium.Icon(color='blue')\n",
        "            ).add_to(nyc_map)\n",
        "        # if statement that iterates to ask if user would like to continue inputting more addresses, break loop if 'no'\n",
        "        if i < 4:\n",
        "            add_more = input(\"Would you like to input another address? (yes/no): \")\n",
        "            if add_more.lower() != 'yes':\n",
        "                break\n",
        "\n",
        "    # fetch the isochrones for the center coordinates\n",
        "    results = await sdk.time_map_geojson_async(\n",
        "        coordinates=origin_coordinates,\n",
        "        arrival_time=datetime.now(),\n",
        "        travel_time= travel_time_seconds,\n",
        "        transportation=transportation\n",
        "    )\n",
        "\n",
        "    # create list of colors that isochrone will use in visualization\n",
        "    colors = ['red', 'blue', 'green', 'yellow', 'purple']\n",
        "\n",
        "    # for loop that plots each isochrone on the map\n",
        "    for i, feature in enumerate(results.features):\n",
        "        folium.GeoJson(feature, style_function=lambda x, color=colors[i]: {'color': color}).add_to(nyc_map)\n",
        "\n",
        "    # display folium map\n",
        "    display(nyc_map)\n",
        "\n",
        "# try&except block, this is a precaution as the TravelTime API has a max call amount per minute with the free plan we are using\n",
        "try:\n",
        "    await main()\n",
        "except RuntimeError:\n",
        "    asyncio.run(main())"
      ],
      "metadata": {
        "id": "2PqY92rYe4iK"
      },
      "execution_count": null,
      "outputs": []
    },
    {
      "cell_type": "markdown",
      "source": [
        "Now that we have three locations plotted to an individual color, we can now plot the intersection between these isochrones."
      ],
      "metadata": {
        "id": "TOsFTgjWqd19"
      }
    },
    {
      "cell_type": "code",
      "source": [
        "import asyncio\n",
        "from datetime import datetime\n",
        "import folium\n",
        "from traveltimepy import TravelTimeSdk, Coordinates, PublicTransport\n",
        "from shapely.geometry import shape\n",
        "from shapely.ops import unary_union\n",
        "\n",
        "# function fetch_isochrones: takes coordinates, user inputted arrival time, travel time, and transportation\n",
        "# returns isochrone\n",
        "# this function provides the intersected area of all isochrones developed in the above graph\n",
        "async def fetch_isochrones(origin_coordinates):\n",
        "    sdk = TravelTimeSdk(\"981c6f8d\", \"c5fffce90d3ee3c78d1aa2f07ca93be3\")\n",
        "\n",
        "    # fetch the isochrones for the center coordinates\n",
        "    features = await sdk.time_map_geojson_async(\n",
        "        coordinates=origin_coordinates,\n",
        "        arrival_time=datetime.now(),\n",
        "        travel_time=travel_time_seconds,\n",
        "        transportation=transportation\n",
        "    )\n",
        "\n",
        "    geoms = [shape(feature.geometry) for feature in features.features]\n",
        "\n",
        "    # compute the intersection of all geometries\n",
        "    intersection = unary_union(geoms)\n",
        "    for geom in geoms:\n",
        "        intersection = intersection.intersection(geom)\n",
        "\n",
        "    # create a map using folium of New York\n",
        "    m = folium.Map(location=[40.7415696, -74.0022074], zoom_start=13, tiles='CartoDB dark_matter')\n",
        "\n",
        "    # plot the intersection if it's not empty\n",
        "    if not intersection.is_empty:\n",
        "        folium.GeoJson(intersection, style_function=lambda x: {'color': 'orange', 'weight': 5}).add_to(m)\n",
        "\n",
        "    return m\n",
        "\n",
        "# execute the async function and display the map in a cell\n",
        "map_obj = await fetch_isochrones(origin_coordinates)\n",
        "map_obj"
      ],
      "metadata": {
        "id": "gXDuxhR8htBf"
      },
      "execution_count": null,
      "outputs": []
    },
    {
      "cell_type": "markdown",
      "source": [
        "From here, we can now plot apartments from our dataframe into the isochrone intersection, as well as produce a dataframe of said apartments for later analysis."
      ],
      "metadata": {
        "id": "DgqXeSMEtRar"
      }
    },
    {
      "cell_type": "code",
      "source": [
        "import asyncio\n",
        "from datetime import datetime\n",
        "import folium\n",
        "from folium.plugins import MarkerCluster\n",
        "from traveltimepy import TravelTimeSdk, Coordinates, PublicTransport\n",
        "from shapely.geometry import shape, Point\n",
        "from shapely.ops import unary_union\n",
        "import geopandas as gpd\n",
        "\n",
        "# function fetch_isochrones: takes the intersected isochrone and the housing dataFrame\n",
        "# returns a map of plotted apartments within the intersected isochrone\n",
        "# this function is different from that above as it provides the housing data overtop the area\n",
        "async def fetch_isochrones():\n",
        "    global intersection\n",
        "    sdk = TravelTimeSdk(\"981c6f8d\", \"c5fffce90d3ee3c78d1aa2f07ca93be3\")\n",
        "\n",
        "    # Fetch the isochrones\n",
        "    features = await sdk.time_map_geojson_async(\n",
        "        coordinates=origin_coordinates,\n",
        "        arrival_time=datetime.now(),\n",
        "        travel_time=travel_time_seconds,\n",
        "        transportation=transportation\n",
        "    )\n",
        "\n",
        "    geoms = [shape(feature.geometry) for feature in features.features]\n",
        "\n",
        "    # calculate the intersection of all geometries\n",
        "    # if statement for geoms\n",
        "    if geoms:\n",
        "        intersection = geoms[0]  # Start with the first geometry\n",
        "        for geom in geoms[1:]:\n",
        "            intersection = intersection.intersection(geom)  # Intersect with each subsequent geometry\n",
        "\n",
        "    m = folium.Map(location=[40.7415696, -74.0022074], zoom_start=13, tiles='CartoDB dark_matter')\n",
        "    if intersection and not intersection.is_empty:\n",
        "        folium.GeoJson(intersection, style_function=lambda x: {'color': 'orange', 'weight': 5}).add_to(m)\n",
        "    return m\n",
        "\n",
        "async def main():\n",
        "    map_obj = await fetch_isochrones()\n",
        "\n",
        "    marker_cluster = MarkerCluster().add_to(map_obj)\n",
        "\n",
        "    # create a temporary geodataframe gdf that contains the geometry information\n",
        "    gdf = gpd.GeoDataFrame(processed_df, geometry=gpd.points_from_xy(processed_df['longitude'], processed_df['latitude']), crs='EPSG:4326')\n",
        "    # create column 'geometry' that stores the points derived from longitude and latitude\n",
        "    gdf['geometry'] = gdf.apply(lambda row: Point(row['longitude'], row['latitude']), axis=1)\n",
        "\n",
        "    # filter gdf so that it only includes data within intersection\n",
        "    gdf_within_intersection = gdf[gdf.geometry.within(intersection)]\n",
        "    global intersected_df\n",
        "\n",
        "    # create a dataframe intersected_df, dropping the 'geometry' column and resetting index\n",
        "    intersected_df = pd.DataFrame(gdf_within_intersection.drop(columns='geometry')).reset_index(drop=True)\n",
        "\n",
        "    # create a marker based on lat and long values for folium map, include pop-up which includes address information\n",
        "    for idx, row in gdf_within_intersection.iterrows():\n",
        "        folium.Marker([row['latitude'], row['longitude']], popup=row['address']).add_to(map_obj)\n",
        "    # return map\n",
        "    return map_obj\n",
        "\n",
        "# run the script and display the map\n",
        "map_obj = await main()\n",
        "map_obj"
      ],
      "metadata": {
        "id": "F4hp5OEdiGUi"
      },
      "execution_count": null,
      "outputs": []
    },
    {
      "cell_type": "markdown",
      "source": [
        "# Isochrone Data Analysis"
      ],
      "metadata": {
        "id": "2_p9EcsNWt9y"
      }
    },
    {
      "cell_type": "markdown",
      "source": [
        "We can run some analysis on the dataset of apartments within this intersection of isochrones, as well as produce visualizations."
      ],
      "metadata": {
        "id": "-YlLz7OIsKEv"
      }
    },
    {
      "cell_type": "code",
      "source": [
        "print(intersected_df.shape)\n",
        "# print shape of intersected_df, as well as price descriptive statistics\n",
        "print(\"Price Descriptive Statistics\")\n",
        "print(f\"   Mean:   ${round(intersected_df['price'].mean(), 2)}\")\n",
        "print(f\"   Median: ${round(intersected_df['price'].median(), 2)}\")\n",
        "print(f\"   Mode:   ${round(intersected_df['price'].mode()[0], 2)}\")\n",
        "print(f\"   St Dev: ${round(intersected_df['price'].std(), 2)}\")\n",
        "print()\n",
        "\n",
        "# rescale the grade column to be proportional to the applicable area\n",
        "intersected_df['room price ratio'] = intersected_df['total rooms'] / intersected_df['price']\n",
        "scaler = skp.MinMaxScaler(feature_range=(1, 10))\n",
        "intersected_df['grade'] = scaler.fit_transform(intersected_df[['room price ratio']])\n",
        "intersected_df.drop('room price ratio', axis=1, inplace=True)\n",
        "\n",
        "# count top 5 neighborhoods in intersected_df\n",
        "top_neighborhoods_intersection = intersected_df['neighborhood'].value_counts()\n",
        "top5_neighborhood_intersection = top_neighborhoods_intersection[0:5]\n",
        "\n",
        "top5_neighborhood = top5_neighborhood_intersection.index\n",
        "top5_count = top5_neighborhood_intersection.values\n",
        "\n",
        "# plot findings in barchart\n",
        "plt.figure(figsize=(8,4))\n",
        "plt.bar(top5_neighborhood, top5_count)\n",
        "plt.title('Top 5 Most Common Neighborhoods Within Isochrone')\n",
        "plt.xlabel('Neighborhood')\n",
        "plt.ylabel('Number of Apartments')\n",
        "plt.show()\n",
        "\n",
        "print(f'\\nOut of the {intersected_df.shape[0]} apartments in the isochrone, here are the top 5 most commonly appearing neighborhoods.\\n')\n",
        "\n",
        "# create a temporary dataframe that only takes rows from top5 neighborhoods in intersected_df\n",
        "temp_df = intersected_df[intersected_df['neighborhood'].apply(lambda x: x in top5_neighborhood)]\n",
        "\n",
        "# plot boxplots that depict distribution of price between each neighborhood\n",
        "top5_boxplots = temp_df.loc[:,['neighborhood','price']].boxplot(by='neighborhood', column='price', figsize = (8,5))\n",
        "top5_boxplots.plot()\n",
        "plt.title(\"Boxplots of Rental Property Prices in 5 Most Common Neighborhoods of Isochrone\")\n",
        "plt.xlabel(\"Neighborhood\")\n",
        "plt.ylabel(\"Price ($)\")\n",
        "plt.suptitle(\"\")\n",
        "plt.show()\n",
        "print(\"\")\n",
        "# plot boxplots for grade\n",
        "grade_df = temp_df[['neighborhood', 'beds', 'grade']]\n",
        "grade_df['beds'] = grade_df['beds'].astype(str) + ' bed'\n",
        "plt.figure(figsize=(12, 6))  # Set the figure size or adjust based on your dataset\n",
        "sns.boxplot(data=grade_df, x='neighborhood', y='grade', hue='beds')  # 'hue' differentiates the bedroom counts\n",
        "plt.title(\"Boxplots of Rental Property Grades by Neighborhood and Number of Bedrooms\")\n",
        "plt.xlabel(\"Neighborhood\")\n",
        "plt.ylabel(\"Grade\")\n",
        "plt.legend(title='Bedrooms', loc='upper right')\n",
        "plt.xticks(rotation=45)\n",
        "plt.show()"
      ],
      "metadata": {
        "id": "4JPg0LHWibWD"
      },
      "execution_count": null,
      "outputs": []
    },
    {
      "cell_type": "code",
      "source": [
        "top5_neighborhood_intersection"
      ],
      "metadata": {
        "id": "iQJHR8IoA_ae"
      },
      "execution_count": null,
      "outputs": []
    },
    {
      "cell_type": "markdown",
      "source": [
        "Looking at the boxplots of price distributions by neighborhood, we can first identify that Clinton has a fairly narrow range of prices compared to the other four neighborhoods. East Village and Murray Hill share similarities both in boxplot shape, suggesting similar distribution, and the presence of outliers. And like our observation in exploring the general dataframe, we also find that the Upper East side has a very narrow section for its bottom half of data, with a very high range from the maximum (excluding outlier) to the median, suggesting a wide range of luxury housing in the area."
      ],
      "metadata": {
        "id": "RRazVY5N01oy"
      }
    },
    {
      "cell_type": "markdown",
      "source": [
        "The boxplot of rental property grades within the 5 most common neighborhoods provides good insight into the quality of the applicable apartments. Clinton, being the most common neighborhood, has the highest grade of apartments. Although Clinton has the highest grades, it is noted that the average grade is found just below that of East Village. Despite the top 5 neighborhoods all having relatively similar median apartment grades, it would be recommended that the buyer looks for apartments in the neighborhoods of Clinton, East Village, and Murry Hill as those neighborhoods have the highest average grade as well as the absolute highest grades."
      ],
      "metadata": {
        "id": "3qJkht25xKGX"
      }
    },
    {
      "cell_type": "code",
      "source": [
        "from scipy import stats\n",
        "from sklearn.model_selection import train_test_split\n",
        "\n",
        "# create columns that normalize the numeric data in our intersected_df\n",
        "intersected_df['price_norm']=skp.MinMaxScaler().fit_transform(intersected_df['price'].values.reshape(-1,1))\n",
        "intersected_df['beds_norm']=skp.MinMaxScaler().fit_transform(intersected_df['beds'].values.reshape(-1,1))\n",
        "intersected_df['baths_norm']=skp.MinMaxScaler().fit_transform(intersected_df['baths'].values.reshape(-1,1))\n",
        "intersected_df['total_rooms_norm']=skp.MinMaxScaler().fit_transform(intersected_df['total rooms'].values.reshape(-1,1))\n",
        "\n",
        "# print correlation data between X (beds, baths, total rooms) and Y (price)\n",
        "print(\"Corr between # of beds and price: \", stats.pearsonr(intersected_df['beds'], intersected_df['price']))\n",
        "print(\"Corr between # of baths and price: \", stats.pearsonr(intersected_df['baths'], intersected_df['price']))\n",
        "print(\"Corr between # of total rooms and price: \", stats.pearsonr(intersected_df['total rooms'], intersected_df['price']))\n"
      ],
      "metadata": {
        "id": "2-3oHSuctmqv"
      },
      "execution_count": null,
      "outputs": []
    },
    {
      "cell_type": "markdown",
      "source": [
        "Looking at the correlation between beds and price, a range of values of `0.59` to `0.64` indicates a moderately positive relationship between variables `beds` and `price`. In addition, p-values being listed at `0.00` show that the correlation is statistically significant, which again, we have come to expect.\n",
        "\n",
        "\n",
        "\n",
        "The following are regression analyses to determine the relationships between different variables, such as price and total rooms (the first regression), price and neighborhood (the second regression), and grade and neighborhood (the third regression)."
      ],
      "metadata": {
        "id": "1EcufKBlRdgl"
      }
    },
    {
      "cell_type": "code",
      "source": [
        "# data for regression of price and total rooms\n",
        "\n",
        "# initialize X (normalized bed and bath counts) and Y (normalized price)\n",
        "X = intersected_df[['beds_norm', 'baths_norm']]\n",
        "y = intersected_df['price_norm']\n",
        "\n",
        "# use train_test_split to get X_train/_test and Y_train/_test data splits\n",
        "X_train, X_test, Y_train, Y_test = train_test_split(X,y)\n",
        "\n",
        "# import necessary libraries\n",
        "from sklearn import linear_model\n",
        "import sklearn.metrics as m\n",
        "\n",
        "# create linear regression model\n",
        "my_model = linear_model.LinearRegression()\n",
        "my_model.fit(X_train, Y_train)\n",
        "\n",
        "\n",
        "# predict on the test data\n",
        "Y_hat = my_model.predict(X_test)\n",
        "\n",
        "# calculate and print metrics\n",
        "mse = m.mean_squared_error(Y_test, Y_hat)\n",
        "r2 = m.r2_score(Y_test, Y_hat)\n",
        "\n",
        "print(\"Mean Squared Error:\", mse)\n",
        "print(\"R^2 Score:\", r2)\n"
      ],
      "metadata": {
        "id": "X9__t8l4ufCz"
      },
      "execution_count": null,
      "outputs": []
    },
    {
      "cell_type": "code",
      "source": [
        "import numpy as np\n",
        "from sklearn.model_selection import learning_curve\n",
        "\n",
        "# conduct an evaluation of the model, focusing on over and underfitting\n",
        "train_sizes, train_scores, validation_scores = learning_curve(my_model, X, y, train_sizes= np.linspace(.1,1,10), scoring='neg_mean_squared_error')\n",
        "\n",
        "# store values\n",
        "train_mean_score = -np.mean(train_scores, axis=1)\n",
        "train_std_score = np.std(train_scores, axis=1)\n",
        "validation_mean_score = -np.mean(validation_scores, axis=1)\n",
        "validation_std_score = np.std(validation_scores, axis=1)\n",
        "\n",
        "# plot learning curve\n",
        "plt.figure(figsize=(8, 6))\n",
        "plt.plot(train_sizes, train_mean_score, label='Training error')\n",
        "plt.plot(train_sizes, validation_mean_score, label='Validation error')\n",
        "plt.title('Learning Curve')\n",
        "plt.xlabel('Training Set Size')\n",
        "plt.ylabel('Mean Squared Error')\n",
        "plt.legend()\n",
        "plt.grid(True)\n",
        "plt.show()"
      ],
      "metadata": {
        "id": "WdUxiYYVSl2A"
      },
      "execution_count": null,
      "outputs": []
    },
    {
      "cell_type": "markdown",
      "source": [
        "Analysis of the Regression Model:\n",
        "\n",
        "The training error starts relatively high and decreases significantly as the training set size increases up to around 1500 samples. This decrease indicates that the model benefits from more training data, improving its ability to predict the training set. Post-1500 samples, the training error experiences some fluctuation but tends to decrease, suggesting some variability in how additional data impacts model training.\n",
        "\n",
        "The validation error starts lower than the training error, which is unusual as typically, validation error will start higher. This could indicate an issue with how the validation set is composed and or how the model is evaluated. The validation error remains relatively flat and even slightly increases as more data is added. It shows less variability than the training error, indicating that the model's generalization to unseen data isn't substantially improving with more data.\n",
        "\n",
        "The gap between the training and validation errors is relatively narrow throughout, which typically suggests low variance in the model predictions. A narrow gap usually indicates good generalization but can also suggest underfitting if both errors are high.\n",
        "\n",
        "In our case, a mean squared error of 0.015-0.019 is moderate. Thus, the regression model is demonstrating some signs of underfitting for the data, as it doesn’t fully learn from the data. This is also reflected in the R^2 score. As less than 50% of the variance in price is accounted for within total room count."
      ],
      "metadata": {
        "id": "jm8w6l9f-qC3"
      }
    },
    {
      "cell_type": "code",
      "source": [
        "features = intersected_df[['beds', 'baths', 'price']]  # these are numeric\n",
        "scaler = skp.StandardScaler()\n",
        "\n",
        "# scale the features\n",
        "features_scaled = scaler.fit_transform(features)\n",
        "# import library to use KMeans\n",
        "from sklearn.cluster import KMeans\n",
        "# determine the optimal number of clusters using the Elbow method\n",
        "sse = []\n",
        "for k in range(1, 11):\n",
        "    kmeans = KMeans(n_clusters=k, n_init=10, random_state=0)\n",
        "    kmeans.fit(features_scaled)\n",
        "    sse.append(kmeans.inertia_)\n",
        "\n",
        "# plot SSE for each k to find the elbow\n",
        "plt.figure(figsize=(10, 6))\n",
        "plt.plot(range(1, 11), sse, marker='o')\n",
        "plt.title('Elbow Method for Optimal k')\n",
        "plt.xlabel('Number of Clusters')\n",
        "plt.ylabel('SSE')\n",
        "plt.show()\n",
        "\n",
        "# assuming the elbow is at k=4 from the plot\n",
        "kmeans = KMeans(n_clusters=4, n_init=10, random_state=0)\n",
        "intersected_df['Cluster'] = kmeans.fit_predict(features_scaled)\n",
        "\n",
        "# calculate mean values for each cluster\n",
        "clustered_data = intersected_df[['beds', 'baths', 'price', 'Cluster']].groupby('Cluster').mean()\n",
        "print(clustered_data)"
      ],
      "metadata": {
        "id": "A7p4Apr7Km1v"
      },
      "execution_count": null,
      "outputs": []
    },
    {
      "cell_type": "code",
      "source": [
        "def summarize_clusters(intersected_df):\n",
        "    cluster_summary = intersected_df.groupby('Cluster').agg({\n",
        "        'beds': ['mean', 'median', 'std'],\n",
        "        'baths': ['mean', 'median', 'std'],\n",
        "        'price': ['mean', 'median', 'std', 'min', 'max']\n",
        "    })\n",
        "    return cluster_summary\n",
        "\n",
        "def plot_cluster_relationships(intersected_df):\n",
        "    sns.pairplot(intersected_df, vars=['beds', 'baths', 'price'], hue='Cluster', palette='viridis', plot_kws={'alpha': 0.6})\n",
        "    plt.show()\n",
        "\n",
        "def interpret_cluster(row):\n",
        "    beds, baths, price = row['beds', 'mean'], row['baths', 'mean'], row['price', 'mean']\n",
        "    # High-end Luxury\n",
        "    if price > 40000:\n",
        "        return \"This cluster represents luxury properties, likely in prestigious areas, with spacious and high-quality interiors.\"\n",
        "    # Family-sized Homes\n",
        "    elif beds > 3 and baths > 2:\n",
        "        return \"This cluster includes large family homes with multiple bedrooms and bathrooms, suitable for family living and offering ample space for comfort.\"\n",
        "    # Upscale Apartments\n",
        "    elif beds > 2 and baths >= 2 and price > 10000:\n",
        "        return \"This cluster likely consists of upscale apartments or townhouses with excellent amenities and considerable living space, appealing to professionals or small families.\"\n",
        "    # Mid-range Apartments\n",
        "    elif beds >= 2 and baths >= 1 and 6000 < price and price < 10000:\n",
        "        return \"This cluster represents mid-range properties, providing a good balance of affordability and space, ideal for couples or small families.\"\n",
        "    # Budget, Smaller Apartments\n",
        "    elif beds < 2 and price < 7000:\n",
        "        return \"This cluster likely includes budget-friendly, smaller apartments or studios, ideal for singles or young couples starting out.\"\n",
        "    # Default catch-all for other cases\n",
        "    else:\n",
        "        return \"This cluster includes properties that might not fit neatly into other categories, offering unique living arrangements.\"\n",
        "\n",
        "def generate_narrative(cluster_summary):\n",
        "    narratives = []\n",
        "    for cluster in cluster_summary.index:\n",
        "        narrative = (\n",
        "            f\"Cluster {cluster}: Average of {cluster_summary.loc[cluster, ('beds', 'mean')]:.2f} beds and \"\n",
        "            f\"{cluster_summary.loc[cluster, ('baths', 'mean')]:.2f} baths at a price of \"\n",
        "            f\"${cluster_summary.loc[cluster, ('price', 'mean')]:,.2f}. \"\n",
        "            f\"\\nInterpretation: {interpret_cluster(cluster_summary.loc[cluster])}\"\n",
        "        )\n",
        "        narratives.append(narrative)\n",
        "    return \"\\n\\n\".join(narratives)\n",
        "\n",
        "\n",
        "cluster_stats = summarize_clusters(intersected_df)\n",
        "plot_cluster_relationships(intersected_df)\n",
        "cluster_narratives = generate_narrative(cluster_stats)\n",
        "print(cluster_narratives)"
      ],
      "metadata": {
        "id": "79YfndFaQKzX"
      },
      "execution_count": null,
      "outputs": []
    },
    {
      "cell_type": "markdown",
      "source": [
        "# Final Thoughts and Conclusion"
      ],
      "metadata": {
        "id": "iGeQWeIfWmHL"
      }
    },
    {
      "cell_type": "markdown",
      "source": [
        "**Challenges and Notes for Future**\n",
        "\n",
        "One of the main challenges we came across was the distribution of our numerical data, specifically how columns like `price` were skewed to the right. Since the distribution to our y-value is not normal, we did not have the necessary parameters to use an ANOVA test to compare a categorical variable like `neighborhood` with `price`. Based on our notebook not containing a non-parametric equivalent to this test (Kruskal-Wallis), in the future, we would resort to using other, non-parametric tests, as rental property price data shows a distribution of being heavily skewed.\n",
        "\n",
        "We also encountered issues with the creation of linear regression models. As we were creating them, we ran into issues of over and underfitting which suggested that our model did not have enough information to make a sufficient model. These issues posed a challenge when we interpreted and analyzed our linear regression model. In the future, we aim to change the testing size and increase data size, while also adjusting the size based on evaluation, to get a better fitting model. In the future, we also aim to train on more features, as the lack of features is a probable cause for the underfitting. This fix along with some changes to the testing and data size will allow us to get a better fitting model"
      ],
      "metadata": {
        "id": "NbymQUin1EpC"
      }
    },
    {
      "cell_type": "markdown",
      "source": [
        "**Recommendation**\n",
        "\n",
        "One of the main insights that we gathered from this project was that although distributions of price can be visually similar between neighborhoods, that it was not indicative of similarly structured apartments. To clarify, while the distribution of price via boxplots in neighborhoods Murray Hill and East Village were visually congruous, a two sample t-test concerning the number of beds between these two neighborhoods produced a p-value that rejected our null hypothesis that the mean bed numbers for each neighborhood were not statistically significantly different. Thus, we recommend that viewing apartments by price will not mean that the distribution of beds will also be similar.\n",
        "\n",
        "The first thing we looked at in terms of recommendations for where the user should look for an apartment is the most common neighborhoods. When searching for apartments, quantity matters. There are a wide variety of other requirements people may have for their place of living so it is good to have the option to look at as many apartments as possible. Within the most common neighborhoods, the next most important thing that many consumers have is how good is the space for what they are paying. This was analyzed through the boxplots of property grade in the most common neighborhoods. The 3 beds were determined to have the best grade, suggesting that 3 bedroom apartments are the best value for money. Not only are they the best value for money, but also within the neighborhoods of Clinton and East Village. These neighborhoods have a good market too, as the median price within the neighborhood is roughly 5000 USD for Clinton and 6000 USD for East Village, compared to the overall median price of 5000 USD across all apartment types. Based on these insights, we would recommend that the user gather 2 other friends and look for a 3 bedroom apartment within the neighborhoods of Clinton and East Village."
      ],
      "metadata": {
        "id": "AUJq5O5M2qhN"
      }
    },
    {
      "cell_type": "code",
      "source": [],
      "metadata": {
        "id": "hg7DI-JAFsaB"
      },
      "execution_count": null,
      "outputs": []
    }
  ]
}